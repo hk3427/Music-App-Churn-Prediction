{
 "cells": [
  {
   "cell_type": "markdown",
   "id": "6d7aedaf",
   "metadata": {},
   "source": [
    "# Setting up the spark environment "
   ]
  },
  {
   "cell_type": "code",
   "execution_count": 87,
   "id": "3ebe417b",
   "metadata": {},
   "outputs": [
    {
     "name": "stdout",
     "output_type": "stream",
     "text": [
      "Welcome to\n",
      "      ____              __\n",
      "     / __/__  ___ _____/ /__\n",
      "    _\\ \\/ _ \\/ _ `/ __/  '_/\n",
      "   /__ / .__/\\_,_/_/ /_/\\_\\   version 3.2.1\n",
      "      /_/\n",
      "\n",
      "Using Python version 3.8.8 (default, Apr 13 2021 12:59:45)\n",
      "Spark context Web UI available at http://akhileshs-mbp.lan:4041\n",
      "Spark context available as 'sc' (master = local[*], app id = local-1652155559788).\n",
      "SparkSession available as 'spark'.\n"
     ]
    }
   ],
   "source": [
    "import os\n",
    "exec(open(os.path.join(os.environ[\"SPARK_HOME\"], 'python/pyspark/shell.py')).read())"
   ]
  },
  {
   "cell_type": "code",
   "execution_count": 89,
   "id": "af906a13",
   "metadata": {},
   "outputs": [],
   "source": [
    "import pyspark\n",
    "from pyspark.sql.session import SparkSession\n",
    "spark = SparkSession.builder.appName(\"Churn Prediction\").getOrCreate()\n",
    "spark.sparkContext.setLogLevel('ERROR')"
   ]
  },
  {
   "cell_type": "code",
   "execution_count": 90,
   "id": "ad6681fe",
   "metadata": {},
   "outputs": [
    {
     "data": {
      "text/plain": [
       "[('spark.app.id', 'local-1652155559788'),\n",
       " ('spark.driver.memory', '12g'),\n",
       " ('spark.sql.warehouse.dir',\n",
       "  'file:/Users/akhilesh/college/Big%20Data/Project/spark-warehouse'),\n",
       " ('spark.driver.host', 'akhileshs-mbp.lan'),\n",
       " ('spark.app.startTime', '1652155559115'),\n",
       " ('spark.executor.id', 'driver'),\n",
       " ('spark.app.name', 'PySparkShell'),\n",
       " ('spark.driver.port', '58342'),\n",
       " ('spark.sql.catalogImplementation', 'hive'),\n",
       " ('spark.rdd.compress', 'True'),\n",
       " ('spark.serializer.objectStreamReset', '100'),\n",
       " ('spark.master', 'local[*]'),\n",
       " ('spark.submit.pyFiles', ''),\n",
       " ('spark.submit.deployMode', 'client'),\n",
       " ('spark.ui.showConsoleProgress', 'true')]"
      ]
     },
     "execution_count": 90,
     "metadata": {},
     "output_type": "execute_result"
    }
   ],
   "source": [
    "spark.sparkContext.getConf().getAll()"
   ]
  },
  {
   "cell_type": "markdown",
   "id": "1a23199e",
   "metadata": {},
   "source": [
    "# Loading the Json file obtained from kafka for offline data analaysis "
   ]
  },
  {
   "cell_type": "code",
   "execution_count": 91,
   "id": "26cb61df",
   "metadata": {},
   "outputs": [],
   "source": [
    "def spark_read(spark):\n",
    "    return spark.read.option('inferSchema', 'true').option('header', 'true').option('encoding', 'utf-8')"
   ]
  },
  {
   "cell_type": "code",
   "execution_count": 92,
   "id": "06f2781d",
   "metadata": {},
   "outputs": [],
   "source": [
    "def load_full_json_file(spark):\n",
    "    df = spark_read(spark).json('sparkify_event_data.json')\n",
    "    return df"
   ]
  },
  {
   "cell_type": "code",
   "execution_count": 93,
   "id": "2adf874b",
   "metadata": {},
   "outputs": [
    {
     "name": "stderr",
     "output_type": "stream",
     "text": [
      "                                                                                \r"
     ]
    }
   ],
   "source": [
    "df = load_full_json_file(spark)"
   ]
  },
  {
   "cell_type": "code",
   "execution_count": 94,
   "id": "032a7731",
   "metadata": {},
   "outputs": [
    {
     "data": {
      "text/plain": [
       "DataFrame[artist: string, auth: string, firstName: string, gender: string, itemInSession: bigint, lastName: string, length: double, level: string, location: string, method: string, page: string, registration: bigint, sessionId: bigint, song: string, status: bigint, ts: bigint, userAgent: string, userId: string]"
      ]
     },
     "execution_count": 94,
     "metadata": {},
     "output_type": "execute_result"
    }
   ],
   "source": [
    "df.cache()"
   ]
  },
  {
   "cell_type": "code",
   "execution_count": 95,
   "id": "bee5f962",
   "metadata": {},
   "outputs": [
    {
     "name": "stdout",
     "output_type": "stream",
     "text": [
      "Logger instance created\n",
      "Storage set to MEMORY_ONLY\n"
     ]
    }
   ],
   "source": [
    "from pyspark import StorageLevel\n",
    "\n",
    "log4jLogger = spark.sparkContext._jvm.org.apache.log4j\n",
    "\n",
    "LOGGER = log4jLogger.LogManager.getLogger('driver_logger')\n",
    "\n",
    "def info(message, print_on_notebook = True):\n",
    "    LOGGER.info(message)\n",
    "    \n",
    "    if print_on_notebook:\n",
    "        print(message)\n",
    "        \n",
    "def set_storage_on_memory(df):\n",
    "    df.persist(StorageLevel.MEMORY_ONLY)\n",
    "    info('Storage set to MEMORY_ONLY')\n",
    "\n",
    "info('Logger instance created')\n",
    "\n",
    "set_storage_on_memory(df)"
   ]
  },
  {
   "cell_type": "markdown",
   "id": "a3dcd1e0",
   "metadata": {},
   "source": [
    "# Total number of data counts in our current dataset"
   ]
  },
  {
   "cell_type": "code",
   "execution_count": 96,
   "id": "a0e5e63c",
   "metadata": {},
   "outputs": [
    {
     "data": {
      "text/plain": [
       "26259199"
      ]
     },
     "execution_count": 96,
     "metadata": {},
     "output_type": "execute_result"
    }
   ],
   "source": [
    "df.count()"
   ]
  },
  {
   "cell_type": "markdown",
   "id": "fda292c5",
   "metadata": {},
   "source": [
    "# Import libraries"
   ]
  },
  {
   "cell_type": "code",
   "execution_count": 97,
   "id": "e06e8a81",
   "metadata": {},
   "outputs": [],
   "source": [
    "from pyspark.sql import SparkSession, Window\n",
    "from pyspark.sql.functions import avg, col, concat, desc, explode, lit, stddev,\\\n",
    "split, udf, count, countDistinct, desc, first\n",
    "from pyspark.sql.functions import max as fmax\n",
    "from pyspark.sql.functions import min as fmin\n",
    "from pyspark.sql.types import IntegerType\n",
    "\n",
    "from pyspark.ml import Pipeline\n",
    "from pyspark.ml.classification import LogisticRegression\n",
    "from pyspark.ml.evaluation import MulticlassClassificationEvaluator\n",
    "from pyspark.ml.feature import CountVectorizer, IDF, Normalizer, PCA, RegexTokenizer, StandardScaler,\\\n",
    "StopWordsRemover, StringIndexer, VectorAssembler\n",
    "from pyspark.ml.regression import LinearRegression\n",
    "from pyspark.ml.tuning import CrossValidator, ParamGridBuilder\n",
    "from pyspark.sql.functions import rand, col, when, concat, array, substring,lit,udf,lower,\\\n",
    "sum as ps_sum,count as ps_count, row_number\n",
    "from pyspark.ml.linalg import Vectors, VectorUDT\n",
    "from pyspark.ml.feature import VectorAssembler, BucketedRandomProjectionLSH, VectorSlicer\n",
    "from pyspark.sql.functions import first\n",
    "from pyspark.sql.functions import split\n",
    "from pyspark.sql.functions import date_format\n",
    "from pyspark.sql.types import FloatType\n",
    "from pyspark.ml import Pipeline\n",
    "from pyspark.ml.classification import LogisticRegression, DecisionTreeClassifier,RandomForestClassifier, \\\n",
    "LinearSVC, GBTClassifier\n",
    "from pyspark.ml.feature import StandardScaler, VectorAssembler\n",
    "from pyspark.ml.evaluation import MulticlassClassificationEvaluator\n",
    "from pyspark.mllib.evaluation import MulticlassMetrics, BinaryClassificationMetrics\n",
    "from pyspark.ml.tuning import CrossValidator, ParamGridBuilder\n",
    "from pyspark.sql import DataFrame\n",
    "\n",
    "\n",
    "from functools import reduce\n",
    "import random\n",
    "import time\n",
    "import pandas as pd\n",
    "import numpy as np\n",
    "from statsmodels.stats.proportion import proportions_ztest\n",
    "import re\n",
    "from datetime import datetime\n",
    "import matplotlib.pyplot as plt\n",
    "import seaborn as sns\n",
    "%matplotlib inline"
   ]
  },
  {
   "cell_type": "markdown",
   "id": "fa0177b1",
   "metadata": {},
   "source": [
    "# Schema "
   ]
  },
  {
   "cell_type": "code",
   "execution_count": 98,
   "id": "ec873fa7",
   "metadata": {},
   "outputs": [
    {
     "name": "stdout",
     "output_type": "stream",
     "text": [
      "root\n",
      " |-- artist: string (nullable = true)\n",
      " |-- auth: string (nullable = true)\n",
      " |-- firstName: string (nullable = true)\n",
      " |-- gender: string (nullable = true)\n",
      " |-- itemInSession: long (nullable = true)\n",
      " |-- lastName: string (nullable = true)\n",
      " |-- length: double (nullable = true)\n",
      " |-- level: string (nullable = true)\n",
      " |-- location: string (nullable = true)\n",
      " |-- method: string (nullable = true)\n",
      " |-- page: string (nullable = true)\n",
      " |-- registration: long (nullable = true)\n",
      " |-- sessionId: long (nullable = true)\n",
      " |-- song: string (nullable = true)\n",
      " |-- status: long (nullable = true)\n",
      " |-- ts: long (nullable = true)\n",
      " |-- userAgent: string (nullable = true)\n",
      " |-- userId: string (nullable = true)\n",
      "\n"
     ]
    }
   ],
   "source": [
    "df.printSchema()"
   ]
  },
  {
   "cell_type": "markdown",
   "id": "a6690907",
   "metadata": {},
   "source": [
    "# Checking the user and session ID Count "
   ]
  },
  {
   "cell_type": "code",
   "execution_count": 99,
   "id": "51444f33",
   "metadata": {},
   "outputs": [
    {
     "name": "stderr",
     "output_type": "stream",
     "text": [
      "[Stage 247:================================================>      (85 + 8) / 96]\r"
     ]
    },
    {
     "name": "stdout",
     "output_type": "stream",
     "text": [
      "+-------+------------------+\n",
      "|summary|            userId|\n",
      "+-------+------------------+\n",
      "|  count|          26259199|\n",
      "|   mean|1488379.8347142653|\n",
      "| stddev|286970.08894623973|\n",
      "|    min|           1000025|\n",
      "|    max|           1999996|\n",
      "+-------+------------------+\n",
      "\n"
     ]
    },
    {
     "name": "stderr",
     "output_type": "stream",
     "text": [
      "\r",
      "[Stage 247:===================================================>   (90 + 6) / 96]\r",
      "\r",
      "                                                                                \r"
     ]
    }
   ],
   "source": [
    "df.describe(\"userId\").show()"
   ]
  },
  {
   "cell_type": "code",
   "execution_count": 100,
   "id": "78af6ee6",
   "metadata": {},
   "outputs": [
    {
     "name": "stdout",
     "output_type": "stream",
     "text": [
      "+-------+------------------+\n",
      "|summary|         sessionId|\n",
      "+-------+------------------+\n",
      "|  count|          26259199|\n",
      "|   mean|100577.99253503505|\n",
      "| stddev| 71909.21077875949|\n",
      "|    min|                 1|\n",
      "|    max|            240381|\n",
      "+-------+------------------+\n",
      "\n"
     ]
    }
   ],
   "source": [
    "df.describe(\"sessionId\").show()"
   ]
  },
  {
   "cell_type": "markdown",
   "id": "3a541a79",
   "metadata": {},
   "source": [
    "# Removing the rows that have no user ID"
   ]
  },
  {
   "cell_type": "code",
   "execution_count": 101,
   "id": "15d2c771",
   "metadata": {},
   "outputs": [],
   "source": [
    "valid_df = df.filter(col(\"userId\") != \"\")"
   ]
  },
  {
   "cell_type": "code",
   "execution_count": 102,
   "id": "a271aff1",
   "metadata": {},
   "outputs": [
    {
     "name": "stderr",
     "output_type": "stream",
     "text": [
      "[Stage 253:=================================================>     (86 + 8) / 96]\r"
     ]
    },
    {
     "name": "stdout",
     "output_type": "stream",
     "text": [
      "+-------+------------------+\n",
      "|summary|            userId|\n",
      "+-------+------------------+\n",
      "|  count|          26259199|\n",
      "|   mean|1488379.8347142653|\n",
      "| stddev|286970.08894623973|\n",
      "|    min|           1000025|\n",
      "|    max|           1999996|\n",
      "+-------+------------------+\n",
      "\n"
     ]
    },
    {
     "name": "stderr",
     "output_type": "stream",
     "text": [
      "\r",
      "[Stage 253:=====================================================> (94 + 2) / 96]\r",
      "\r",
      "                                                                                \r"
     ]
    }
   ],
   "source": [
    "valid_df.describe(\"userId\").show()"
   ]
  },
  {
   "cell_type": "code",
   "execution_count": 103,
   "id": "4d7783f7",
   "metadata": {},
   "outputs": [
    {
     "name": "stdout",
     "output_type": "stream",
     "text": [
      "+-------+------------------+\n",
      "|summary|         sessionId|\n",
      "+-------+------------------+\n",
      "|  count|          26259199|\n",
      "|   mean|100577.99253503505|\n",
      "| stddev| 71909.21077875949|\n",
      "|    min|                 1|\n",
      "|    max|            240381|\n",
      "+-------+------------------+\n",
      "\n"
     ]
    }
   ],
   "source": [
    "valid_df.describe(\"sessionId\").show()"
   ]
  },
  {
   "cell_type": "code",
   "execution_count": 104,
   "id": "79dc6dcd",
   "metadata": {},
   "outputs": [],
   "source": [
    "get_time = udf(lambda x: datetime.fromtimestamp(x / 1000.0).strftime(\"%Y-%m-%d %H:%M:%S\"))"
   ]
  },
  {
   "cell_type": "code",
   "execution_count": 105,
   "id": "70cf3759",
   "metadata": {},
   "outputs": [],
   "source": [
    "valid_df = valid_df.withColumn(\"time\", get_time(valid_df.ts))"
   ]
  },
  {
   "cell_type": "code",
   "execution_count": 106,
   "id": "7b7a5746",
   "metadata": {},
   "outputs": [
    {
     "name": "stderr",
     "output_type": "stream",
     "text": [
      "                                                                                \r"
     ]
    },
    {
     "data": {
      "text/plain": [
       "Row(artist='Popol Vuh', auth='Logged In', firstName='Shlok', gender='M', itemInSession=278, lastName='Johnson', length=524.32934, level='paid', location='Dallas-Fort Worth-Arlington, TX', method='PUT', page='NextSong', registration=1533734541000, sessionId=22683, song='Ich mache einen Spiegel - Dream Part 4', status=200, ts=1538352001000, userAgent='\"Mozilla/5.0 (Windows NT 6.1; WOW64) AppleWebKit/537.36 (KHTML, like Gecko) Chrome/36.0.1985.143 Safari/537.36\"', userId='1749042', time='2018-09-30 20:00:01')"
      ]
     },
     "execution_count": 106,
     "metadata": {},
     "output_type": "execute_result"
    }
   ],
   "source": [
    "valid_df.head()"
   ]
  },
  {
   "cell_type": "markdown",
   "id": "25e56de2",
   "metadata": {},
   "source": [
    "# The dataset has a pages column that defines where the user is present based on all may happened event pages\n",
    "\n",
    "1. About\n",
    "2. Add Friend\n",
    "3. Add to Playlist\n",
    "4. Cancel\n",
    "5. Cancellation Confirmation\n",
    "6. Downgrade\n",
    "7. Error\n",
    "8. Help\n",
    "9. Home\n",
    "10. Login\n",
    "11. Logout\n",
    "12. NextSong\n",
    "13. Register\n",
    "14. Roll Advert\n",
    "15. Save Settings\n",
    "16. Settings\n",
    "17. Submit Downgrade\n",
    "18. Submit Registration\n",
    "19. Submit Upgrade\n",
    "20. Thumbs Down\n",
    "21. Thumbs Up\n",
    "22. Upgrade\n",
    "\n",
    "We may pay specific attention in Cancellation Confirmation, We use this event to flag and create a churn column."
   ]
  },
  {
   "cell_type": "markdown",
   "id": "cce4ee2a",
   "metadata": {},
   "source": [
    "# Removing duplicates "
   ]
  },
  {
   "cell_type": "code",
   "execution_count": 107,
   "id": "ae0a7a76",
   "metadata": {},
   "outputs": [
    {
     "name": "stderr",
     "output_type": "stream",
     "text": [
      "[Stage 260:================================================>      (84 + 8) / 96]\r"
     ]
    },
    {
     "name": "stdout",
     "output_type": "stream",
     "text": [
      "+--------------------+\n",
      "|                page|\n",
      "+--------------------+\n",
      "|               About|\n",
      "|          Add Friend|\n",
      "|     Add to Playlist|\n",
      "|              Cancel|\n",
      "|Cancellation Conf...|\n",
      "|           Downgrade|\n",
      "|               Error|\n",
      "|                Help|\n",
      "|                Home|\n",
      "|               Login|\n",
      "|              Logout|\n",
      "|            NextSong|\n",
      "|            Register|\n",
      "|         Roll Advert|\n",
      "|       Save Settings|\n",
      "|            Settings|\n",
      "|    Submit Downgrade|\n",
      "| Submit Registration|\n",
      "|      Submit Upgrade|\n",
      "|         Thumbs Down|\n",
      "+--------------------+\n",
      "only showing top 20 rows\n",
      "\n"
     ]
    },
    {
     "name": "stderr",
     "output_type": "stream",
     "text": [
      "\r",
      "                                                                                \r"
     ]
    }
   ],
   "source": [
    "valid_df.select(\"page\").dropDuplicates().sort(\"page\").show()"
   ]
  },
  {
   "cell_type": "markdown",
   "id": "3152a3e2",
   "metadata": {},
   "source": [
    "# Number of cancellation events in the dataset "
   ]
  },
  {
   "cell_type": "code",
   "execution_count": 108,
   "id": "20dad520",
   "metadata": {},
   "outputs": [
    {
     "name": "stderr",
     "output_type": "stream",
     "text": [
      "                                                                                \r"
     ]
    },
    {
     "data": {
      "text/plain": [
       "5003"
      ]
     },
     "execution_count": 108,
     "metadata": {},
     "output_type": "execute_result"
    }
   ],
   "source": [
    "valid_df.filter(col(\"page\") == \"Cancellation Confirmation\").count()"
   ]
  },
  {
   "cell_type": "markdown",
   "id": "682d6334",
   "metadata": {},
   "source": [
    "# Creating dataset in respect to churn variable for better data insights on why users have churned, or what factors contribute to users cancelling their subscription on the Sparkify platform"
   ]
  },
  {
   "cell_type": "code",
   "execution_count": 109,
   "id": "f42ba8fb",
   "metadata": {},
   "outputs": [
    {
     "name": "stderr",
     "output_type": "stream",
     "text": [
      "[Stage 274:>                                                        (0 + 1) / 1]\r"
     ]
    },
    {
     "name": "stdout",
     "output_type": "stream",
     "text": [
      "+-------+-----+-----+\n",
      "| userId|Churn|count|\n",
      "+-------+-----+-----+\n",
      "|1000280|    1| 1317|\n",
      "|1000353|    1|  299|\n",
      "|1000503|    1|  219|\n",
      "|1001129|    0|  682|\n",
      "|1001163|    1|  315|\n",
      "|1001246|    0|  864|\n",
      "|1001393|    0|  637|\n",
      "|1001559|    0| 1290|\n",
      "|1001607|    0| 2307|\n",
      "|1001759|    0|   73|\n",
      "|1001904|    0| 1668|\n",
      "|1001963|    0|  805|\n",
      "|1002185|    0| 2080|\n",
      "|1002295|    0| 1057|\n",
      "|1002397|    0|  208|\n",
      "|1002491|    0| 1089|\n",
      "|1002763|    0|  257|\n",
      "|1004060|    0| 3396|\n",
      "|1004316|    0| 1194|\n",
      "|1004747|    0| 2290|\n",
      "+-------+-----+-----+\n",
      "only showing top 20 rows\n",
      "\n"
     ]
    },
    {
     "name": "stderr",
     "output_type": "stream",
     "text": [
      "\r",
      "                                                                                \r"
     ]
    }
   ],
   "source": [
    "flag_churn = udf(lambda x: 1 if x == \"Cancellation Confirmation\" else 0, IntegerType())\n",
    "valid_churn_df = valid_df.withColumn(\"Churned\", flag_churn(\"page\"))\n",
    "userwindow = Window.partitionBy('userId').rangeBetween(Window.unboundedPreceding,Window.unboundedFollowing)\n",
    "valid_churn_df = valid_churn_df.withColumn('Churn', fmax('Churned').over(userwindow))\n",
    "churned_rate = valid_churn_df.groupby(\"userId\").agg({\"Churned\": \"sum\"})\\\n",
    ".select(avg(\"sum(Churned)\").alias(\"avg_sum_churn\")).collect()[0][\"avg_sum_churn\"]\n",
    "valid_churn_df.groupBy(\"userId\", \"Churn\").count().show()"
   ]
  },
  {
   "cell_type": "markdown",
   "id": "eb9c8c0f",
   "metadata": {},
   "source": [
    "# User Churn Ratio "
   ]
  },
  {
   "cell_type": "code",
   "execution_count": 110,
   "id": "db85035d",
   "metadata": {},
   "outputs": [
    {
     "name": "stdout",
     "output_type": "stream",
     "text": [
      "churned: 22.46%\n"
     ]
    }
   ],
   "source": [
    "print(\"churned: {:.2f}%\".format(churned_rate * 100))"
   ]
  },
  {
   "cell_type": "code",
   "execution_count": 111,
   "id": "2c86447c",
   "metadata": {},
   "outputs": [],
   "source": [
    "user_counts = valid_churn_df.groupBy(\"auth\")\\\n",
    "             .agg(countDistinct(\"userId\").alias(\"user_counts\"))\\\n",
    "             .sort(col(\"user_counts\").desc())"
   ]
  },
  {
   "cell_type": "code",
   "execution_count": 112,
   "id": "99caf834",
   "metadata": {},
   "outputs": [
    {
     "name": "stderr",
     "output_type": "stream",
     "text": [
      "[Stage 275:==================================================>    (89 + 7) / 96]\r"
     ]
    },
    {
     "name": "stdout",
     "output_type": "stream",
     "text": [
      "+----------+-----------+\n",
      "|      auth|user_counts|\n",
      "+----------+-----------+\n",
      "| Logged In|      22277|\n",
      "| Cancelled|       5003|\n",
      "|     Guest|          1|\n",
      "|Logged Out|          1|\n",
      "+----------+-----------+\n",
      "\n"
     ]
    },
    {
     "name": "stderr",
     "output_type": "stream",
     "text": [
      "\r",
      "                                                                                \r"
     ]
    }
   ],
   "source": [
    "user_counts.show()"
   ]
  },
  {
   "cell_type": "markdown",
   "id": "2ba084bf",
   "metadata": {},
   "source": [
    "# Gender count towards Churn (Data Exploration)"
   ]
  },
  {
   "cell_type": "code",
   "execution_count": 113,
   "id": "06cde146",
   "metadata": {},
   "outputs": [],
   "source": [
    "gender_counts = valid_churn_df.groupBy(\"gender\")\\\n",
    "                .agg(countDistinct(\"userId\").alias(\"user_counts\"))\\\n",
    "                .sort(col(\"user_counts\").desc())"
   ]
  },
  {
   "cell_type": "code",
   "execution_count": 114,
   "id": "ea7d9c91",
   "metadata": {},
   "outputs": [
    {
     "name": "stderr",
     "output_type": "stream",
     "text": [
      "[Stage 281:===================================================>   (90 + 6) / 96]\r"
     ]
    },
    {
     "name": "stdout",
     "output_type": "stream",
     "text": [
      "+------+-----------+\n",
      "|gender|user_counts|\n",
      "+------+-----------+\n",
      "|     M|      11651|\n",
      "|     F|      10626|\n",
      "|  null|          1|\n",
      "+------+-----------+\n",
      "\n"
     ]
    },
    {
     "name": "stderr",
     "output_type": "stream",
     "text": [
      "\r",
      "                                                                                \r"
     ]
    }
   ],
   "source": [
    "gender_counts.show()"
   ]
  },
  {
   "cell_type": "code",
   "execution_count": 115,
   "id": "697d1708",
   "metadata": {},
   "outputs": [
    {
     "name": "stderr",
     "output_type": "stream",
     "text": [
      "                                                                                \r"
     ]
    },
    {
     "data": {
      "image/png": "[encoded data removed]",
      "text/plain": [
       "<Figure size 432x288 with 1 Axes>"
      ]
     },
     "metadata": {
      "needs_background": "light"
     },
     "output_type": "display_data"
    }
   ],
   "source": [
    "sns.barplot(x='gender', y='user_counts', data=gender_counts.toPandas());"
   ]
  },
  {
   "cell_type": "markdown",
   "id": "9faf297d",
   "metadata": {},
   "source": [
    "# We can see there are more male users than female users in our dataset "
   ]
  },
  {
   "cell_type": "markdown",
   "id": "de734722",
   "metadata": {},
   "source": [
    "# Unique user sessions (Data Exploration)"
   ]
  },
  {
   "cell_type": "code",
   "execution_count": 116,
   "id": "09cf5043",
   "metadata": {},
   "outputs": [
    {
     "name": "stderr",
     "output_type": "stream",
     "text": [
      "[Stage 300:==================================================>    (89 + 7) / 96]\r"
     ]
    },
    {
     "name": "stdout",
     "output_type": "stream",
     "text": [
      "+-----------+\n",
      "|item_counts|\n",
      "+-----------+\n",
      "|       1429|\n",
      "+-----------+\n",
      "\n"
     ]
    },
    {
     "name": "stderr",
     "output_type": "stream",
     "text": [
      "\r",
      "                                                                                \r"
     ]
    }
   ],
   "source": [
    "iteminsession_counts = valid_churn_df.select(countDistinct(col(\"itemInSession\")).alias(\"item_counts\"))\n",
    "iteminsession_counts.show()"
   ]
  },
  {
   "cell_type": "markdown",
   "id": "d3fcf957",
   "metadata": {},
   "source": [
    "# Unique user sessions (Length)"
   ]
  },
  {
   "cell_type": "code",
   "execution_count": 117,
   "id": "85337c4c",
   "metadata": {},
   "outputs": [
    {
     "name": "stdout",
     "output_type": "stream",
     "text": [
      "+----------+\n",
      "|    length|\n",
      "+----------+\n",
      "| 524.32934|\n",
      "| 238.39302|\n",
      "| 140.35546|\n",
      "| 277.15873|\n",
      "|1121.25342|\n",
      "| 229.25016|\n",
      "|  313.5473|\n",
      "|  250.8273|\n",
      "| 203.88526|\n",
      "| 183.87546|\n",
      "|  265.9522|\n",
      "| 199.81016|\n",
      "| 131.91791|\n",
      "| 248.78975|\n",
      "| 126.40608|\n",
      "| 355.57832|\n",
      "|  204.7473|\n",
      "| 293.85098|\n",
      "| 267.12771|\n",
      "| 256.80934|\n",
      "+----------+\n",
      "only showing top 20 rows\n",
      "\n"
     ]
    }
   ],
   "source": [
    "length_df = valid_churn_df.select(col(\"length\")).dropna()\n",
    "length_df.show()"
   ]
  },
  {
   "cell_type": "code",
   "execution_count": 118,
   "id": "3e14c475",
   "metadata": {},
   "outputs": [
    {
     "name": "stderr",
     "output_type": "stream",
     "text": [
      "/Users/akhilesh/college/anaconda/anaconda3/lib/python3.8/site-packages/seaborn/distributions.py:2619: FutureWarning: `distplot` is a deprecated function and will be removed in a future version. Please adapt your code to use either `displot` (a figure-level function with similar flexibility) or `histplot` (an axes-level function for histograms).\n",
      "  warnings.warn(msg, FutureWarning)\n"
     ]
    },
    {
     "data": {
      "image/png": "[encoded data removed]",
      "text/plain": [
       "<Figure size 432x288 with 1 Axes>"
      ]
     },
     "metadata": {
      "needs_background": "light"
     },
     "output_type": "display_data"
    }
   ],
   "source": [
    "sns.distplot(length_df.limit(2000).toPandas());"
   ]
  },
  {
   "cell_type": "markdown",
   "id": "1ad1c404",
   "metadata": {},
   "source": [
    "# Length looks like a gaussian distribution with long write tail. Most of length values are concentrated between 0 and 500."
   ]
  },
  {
   "cell_type": "markdown",
   "id": "b1b885e1",
   "metadata": {},
   "source": [
    "# User Level (Free Vs Paid)"
   ]
  },
  {
   "cell_type": "code",
   "execution_count": 119,
   "id": "9101a13f",
   "metadata": {},
   "outputs": [
    {
     "name": "stderr",
     "output_type": "stream",
     "text": [
      "[Stage 308:===================================================>   (90 + 6) / 96]\r"
     ]
    },
    {
     "name": "stdout",
     "output_type": "stream",
     "text": [
      "+-----+-----------+\n",
      "|level|user_counts|\n",
      "+-----+-----------+\n",
      "| free|      18793|\n",
      "| paid|      16185|\n",
      "+-----+-----------+\n",
      "\n"
     ]
    },
    {
     "name": "stderr",
     "output_type": "stream",
     "text": [
      "\r",
      "                                                                                \r"
     ]
    }
   ],
   "source": [
    "level_counts = valid_churn_df.groupBy(\"level\")\\\n",
    "                .agg(countDistinct(\"userId\").alias(\"user_counts\"))\\\n",
    "                .sort(col(\"user_counts\").desc())\n",
    "level_counts.show()"
   ]
  },
  {
   "cell_type": "markdown",
   "id": "117dc5f2",
   "metadata": {},
   "source": [
    "# User Interaction (Free Vs Paid)"
   ]
  },
  {
   "cell_type": "code",
   "execution_count": 120,
   "id": "a264522e",
   "metadata": {},
   "outputs": [
    {
     "name": "stderr",
     "output_type": "stream",
     "text": [
      "                                                                                \r"
     ]
    },
    {
     "data": {
      "text/plain": [
       "12700"
      ]
     },
     "execution_count": 120,
     "metadata": {},
     "output_type": "execute_result"
    }
   ],
   "source": [
    "valid_churn_df.filter(valid_churn_df[\"level\"] == \"paid\") \\\n",
    "      .select(\"userId\").dropDuplicates() \\\n",
    "      .intersect(valid_churn_df.filter(valid_churn_df[\"level\"] == \"free\") \\\n",
    "      .select(\"userId\").dropDuplicates() \\\n",
    "      ).count()"
   ]
  },
  {
   "cell_type": "markdown",
   "id": "4be56376",
   "metadata": {},
   "source": [
    "# Location Analysis (Data Exploration)"
   ]
  },
  {
   "cell_type": "code",
   "execution_count": 121,
   "id": "cfef8446",
   "metadata": {},
   "outputs": [],
   "source": [
    "location_counts = valid_churn_df.groupBy(\"location\")\\\n",
    "                .agg(countDistinct(\"userId\").alias(\"user_counts\"))\\\n",
    "                .sort(col(\"user_counts\").desc())"
   ]
  },
  {
   "cell_type": "code",
   "execution_count": 122,
   "id": "b34b2920",
   "metadata": {},
   "outputs": [
    {
     "name": "stderr",
     "output_type": "stream",
     "text": [
      "                                                                                \r"
     ]
    },
    {
     "data": {
      "text/html": [
       "<div>\n",
       "<style scoped>\n",
       "    .dataframe tbody tr th:only-of-type {\n",
       "        vertical-align: middle;\n",
       "    }\n",
       "\n",
       "    .dataframe tbody tr th {\n",
       "        vertical-align: top;\n",
       "    }\n",
       "\n",
       "    .dataframe thead th {\n",
       "        text-align: right;\n",
       "    }\n",
       "</style>\n",
       "<table border=\"1\" class=\"dataframe\">\n",
       "  <thead>\n",
       "    <tr style=\"text-align: right;\">\n",
       "      <th></th>\n",
       "      <th>location</th>\n",
       "      <th>user_counts</th>\n",
       "    </tr>\n",
       "  </thead>\n",
       "  <tbody>\n",
       "    <tr>\n",
       "      <th>0</th>\n",
       "      <td>New York-Newark-Jersey City, NY-NJ-PA</td>\n",
       "      <td>1570</td>\n",
       "    </tr>\n",
       "    <tr>\n",
       "      <th>1</th>\n",
       "      <td>Los Angeles-Long Beach-Anaheim, CA</td>\n",
       "      <td>1025</td>\n",
       "    </tr>\n",
       "    <tr>\n",
       "      <th>2</th>\n",
       "      <td>Chicago-Naperville-Elgin, IL-IN-WI</td>\n",
       "      <td>682</td>\n",
       "    </tr>\n",
       "    <tr>\n",
       "      <th>3</th>\n",
       "      <td>Dallas-Fort Worth-Arlington, TX</td>\n",
       "      <td>495</td>\n",
       "    </tr>\n",
       "    <tr>\n",
       "      <th>4</th>\n",
       "      <td>Philadelphia-Camden-Wilmington, PA-NJ-DE-MD</td>\n",
       "      <td>485</td>\n",
       "    </tr>\n",
       "  </tbody>\n",
       "</table>\n",
       "</div>"
      ],
      "text/plain": [
       "                                      location  user_counts\n",
       "0        New York-Newark-Jersey City, NY-NJ-PA         1570\n",
       "1           Los Angeles-Long Beach-Anaheim, CA         1025\n",
       "2           Chicago-Naperville-Elgin, IL-IN-WI          682\n",
       "3              Dallas-Fort Worth-Arlington, TX          495\n",
       "4  Philadelphia-Camden-Wilmington, PA-NJ-DE-MD          485"
      ]
     },
     "execution_count": 122,
     "metadata": {},
     "output_type": "execute_result"
    }
   ],
   "source": [
    "location_counts_pd = location_counts.toPandas()\n",
    "location_counts_pd.head()"
   ]
  },
  {
   "cell_type": "code",
   "execution_count": 123,
   "id": "2603983a",
   "metadata": {},
   "outputs": [
    {
     "data": {
      "text/html": [
       "<div>\n",
       "<style scoped>\n",
       "    .dataframe tbody tr th:only-of-type {\n",
       "        vertical-align: middle;\n",
       "    }\n",
       "\n",
       "    .dataframe tbody tr th {\n",
       "        vertical-align: top;\n",
       "    }\n",
       "\n",
       "    .dataframe thead th {\n",
       "        text-align: right;\n",
       "    }\n",
       "</style>\n",
       "<table border=\"1\" class=\"dataframe\">\n",
       "  <thead>\n",
       "    <tr style=\"text-align: right;\">\n",
       "      <th></th>\n",
       "      <th>user_counts</th>\n",
       "      <th>city</th>\n",
       "      <th>state</th>\n",
       "    </tr>\n",
       "  </thead>\n",
       "  <tbody>\n",
       "    <tr>\n",
       "      <th>0</th>\n",
       "      <td>1570</td>\n",
       "      <td>New York-Newark-Jersey City</td>\n",
       "      <td>NY-NJ-PA</td>\n",
       "    </tr>\n",
       "    <tr>\n",
       "      <th>1</th>\n",
       "      <td>1025</td>\n",
       "      <td>Los Angeles-Long Beach-Anaheim</td>\n",
       "      <td>CA</td>\n",
       "    </tr>\n",
       "    <tr>\n",
       "      <th>2</th>\n",
       "      <td>682</td>\n",
       "      <td>Chicago-Naperville-Elgin</td>\n",
       "      <td>IL-IN-WI</td>\n",
       "    </tr>\n",
       "    <tr>\n",
       "      <th>3</th>\n",
       "      <td>495</td>\n",
       "      <td>Dallas-Fort Worth-Arlington</td>\n",
       "      <td>TX</td>\n",
       "    </tr>\n",
       "    <tr>\n",
       "      <th>4</th>\n",
       "      <td>485</td>\n",
       "      <td>Philadelphia-Camden-Wilmington</td>\n",
       "      <td>PA-NJ-DE-MD</td>\n",
       "    </tr>\n",
       "  </tbody>\n",
       "</table>\n",
       "</div>"
      ],
      "text/plain": [
       "   user_counts                            city         state\n",
       "0         1570     New York-Newark-Jersey City      NY-NJ-PA\n",
       "1         1025  Los Angeles-Long Beach-Anaheim            CA\n",
       "2          682        Chicago-Naperville-Elgin      IL-IN-WI\n",
       "3          495     Dallas-Fort Worth-Arlington            TX\n",
       "4          485  Philadelphia-Camden-Wilmington   PA-NJ-DE-MD"
      ]
     },
     "execution_count": 123,
     "metadata": {},
     "output_type": "execute_result"
    }
   ],
   "source": [
    "location_counts_pd = location_counts_pd.join(location_counts_pd['location'].str.split(',',expand=True)\\\n",
    "                                        .rename(columns={0:'city', 1:'state'})).drop('location',axis=1)\n",
    "location_counts_pd.head()\n"
   ]
  },
  {
   "cell_type": "markdown",
   "id": "b4cf3152",
   "metadata": {},
   "source": [
    "# Location Analysis (State)"
   ]
  },
  {
   "cell_type": "code",
   "execution_count": 124,
   "id": "cd19c038",
   "metadata": {},
   "outputs": [
    {
     "data": {
      "image/png": "[encoded data removed]",
      "text/plain": [
       "<Figure size 1224x720 with 1 Axes>"
      ]
     },
     "metadata": {
      "needs_background": "light"
     },
     "output_type": "display_data"
    }
   ],
   "source": [
    "location_counts_pd.groupby('state')['user_counts'].sum().sort_values(ascending=False)\\\n",
    ".plot(kind='bar', figsize=(17,10))\n",
    "plt.show()"
   ]
  },
  {
   "cell_type": "markdown",
   "id": "ea6fd967",
   "metadata": {},
   "source": [
    "# California has the most wide user base, followed by texas and new york state "
   ]
  },
  {
   "cell_type": "markdown",
   "id": "35783bbd",
   "metadata": {},
   "source": [
    "# Location Analysis (City)"
   ]
  },
  {
   "cell_type": "code",
   "execution_count": 125,
   "id": "993c2ada",
   "metadata": {},
   "outputs": [
    {
     "data": {
      "image/png": "[encoded data removed]",
      "text/plain": [
       "<Figure size 720x720 with 1 Axes>"
      ]
     },
     "metadata": {
      "needs_background": "light"
     },
     "output_type": "display_data"
    }
   ],
   "source": [
    "location_counts_pd.groupby('city')['user_counts'].sum().sort_values(ascending=False)\\\n",
    ".plot(kind='bar', figsize=(10,10))\n",
    "plt.show()"
   ]
  },
  {
   "cell_type": "markdown",
   "id": "f5ae6b86",
   "metadata": {},
   "source": [
    "# Page Count Analysis "
   ]
  },
  {
   "cell_type": "code",
   "execution_count": 126,
   "id": "8d34f103",
   "metadata": {},
   "outputs": [
    {
     "name": "stderr",
     "output_type": "stream",
     "text": [
      "[Stage 345:==================================================>    (88 + 8) / 96]\r"
     ]
    },
    {
     "name": "stdout",
     "output_type": "stream",
     "text": [
      "+--------------------+-----------+\n",
      "|                page|user_counts|\n",
      "+--------------------+-----------+\n",
      "|            NextSong|      22261|\n",
      "|                Home|      22073|\n",
      "|           Thumbs Up|      21732|\n",
      "|     Add to Playlist|      21260|\n",
      "|              Logout|      21160|\n",
      "|          Add Friend|      20305|\n",
      "|         Roll Advert|      20068|\n",
      "|         Thumbs Down|      20031|\n",
      "|            Settings|      18933|\n",
      "|                Help|      18244|\n",
      "|             Upgrade|      16151|\n",
      "|           Downgrade|      15209|\n",
      "|               About|      14461|\n",
      "|       Save Settings|      12237|\n",
      "|      Submit Upgrade|      12082|\n",
      "|               Error|      11273|\n",
      "|    Submit Downgrade|       5103|\n",
      "|              Cancel|       5003|\n",
      "|Cancellation Conf...|       5003|\n",
      "|            Register|          1|\n",
      "+--------------------+-----------+\n",
      "only showing top 20 rows\n",
      "\n"
     ]
    },
    {
     "name": "stderr",
     "output_type": "stream",
     "text": [
      "\r",
      "                                                                                \r"
     ]
    }
   ],
   "source": [
    "page_counts = valid_churn_df.groupBy(\"page\")\\\n",
    "                .agg(countDistinct(\"userId\").alias(\"user_counts\"))\\\n",
    "                .sort(col(\"user_counts\").desc())\n",
    "page_counts.show()\n"
   ]
  },
  {
   "cell_type": "code",
   "execution_count": 127,
   "id": "7c47e5b2",
   "metadata": {},
   "outputs": [
    {
     "name": "stderr",
     "output_type": "stream",
     "text": [
      "                                                                                \r"
     ]
    },
    {
     "data": {
      "image/png": "[encoded data removed]",
      "text/plain": [
       "<Figure size 432x288 with 1 Axes>"
      ]
     },
     "metadata": {
      "needs_background": "light"
     },
     "output_type": "display_data"
    }
   ],
   "source": [
    "sns.barplot(x=\"page\", y=\"user_counts\", data=page_counts.toPandas())\n",
    "plt.xticks(rotation='vertical')\n",
    "plt.show()"
   ]
  },
  {
   "cell_type": "markdown",
   "id": "0c71556f",
   "metadata": {},
   "source": [
    "# Most of users are in NextSong, Home, Thumbs Up or Add to Playlist When we have few that cancel, or in Cancellation Confirmation or Submit Downgrade"
   ]
  },
  {
   "cell_type": "markdown",
   "id": "cae0a2e3",
   "metadata": {},
   "source": [
    "# User Device Analysis (Data Exploration)"
   ]
  },
  {
   "cell_type": "code",
   "execution_count": 128,
   "id": "b7f8c2f4",
   "metadata": {},
   "outputs": [
    {
     "name": "stderr",
     "output_type": "stream",
     "text": [
      "[Stage 364:=================================================>     (87 + 8) / 96]\r"
     ]
    },
    {
     "name": "stdout",
     "output_type": "stream",
     "text": [
      "+--------------------+-----------+\n",
      "|           userAgent|user_counts|\n",
      "+--------------------+-----------+\n",
      "|\"Mozilla/5.0 (Win...|       2024|\n",
      "|Mozilla/5.0 (Wind...|       1661|\n",
      "|\"Mozilla/5.0 (Win...|       1395|\n",
      "|\"Mozilla/5.0 (Mac...|       1340|\n",
      "|\"Mozilla/5.0 (Mac...|       1229|\n",
      "|\"Mozilla/5.0 (Mac...|       1084|\n",
      "|Mozilla/5.0 (Maci...|       1000|\n",
      "|\"Mozilla/5.0 (Mac...|        998|\n",
      "|\"Mozilla/5.0 (Mac...|        913|\n",
      "|\"Mozilla/5.0 (Win...|        795|\n",
      "|Mozilla/5.0 (Wind...|        529|\n",
      "|\"Mozilla/5.0 (iPh...|        517|\n",
      "|\"Mozilla/5.0 (Win...|        510|\n",
      "|Mozilla/5.0 (Wind...|        487|\n",
      "|\"Mozilla/5.0 (Win...|        410|\n",
      "|Mozilla/5.0 (X11;...|        361|\n",
      "|Mozilla/5.0 (Wind...|        317|\n",
      "|\"Mozilla/5.0 (Win...|        281|\n",
      "|\"Mozilla/5.0 (iPa...|        259|\n",
      "|Mozilla/5.0 (Wind...|        239|\n",
      "+--------------------+-----------+\n",
      "only showing top 20 rows\n",
      "\n"
     ]
    },
    {
     "name": "stderr",
     "output_type": "stream",
     "text": [
      "\r",
      "                                                                                \r"
     ]
    }
   ],
   "source": [
    "useragent_counts = valid_churn_df.groupBy(\"userAgent\")\\\n",
    "                .agg(countDistinct(\"userId\").alias(\"user_counts\"))\\\n",
    "                .sort(col(\"user_counts\").desc())\n",
    "useragent_counts.show()\n"
   ]
  },
  {
   "cell_type": "markdown",
   "id": "dccca05d",
   "metadata": {},
   "source": [
    "# Classify devices used by each user while being present on the platform  "
   ]
  },
  {
   "cell_type": "code",
   "execution_count": 129,
   "id": "9f74d3af",
   "metadata": {},
   "outputs": [],
   "source": [
    "def get_browser(x):\n",
    "    if 'Firefox' in x:\n",
    "        return 'Firefox'\n",
    "    elif 'Safari' in x:\n",
    "        if 'Chrome' in x:\n",
    "            return 'Chrome'\n",
    "        else:\n",
    "            return 'Safari'\n",
    "    elif 'Trident' in x:\n",
    "        return 'IE'\n",
    "    else:\n",
    "        return 'Other'"
   ]
  },
  {
   "cell_type": "code",
   "execution_count": 130,
   "id": "f508a69c",
   "metadata": {},
   "outputs": [
    {
     "name": "stderr",
     "output_type": "stream",
     "text": [
      "                                                                                \r"
     ]
    }
   ],
   "source": [
    "useragent_counts_pd = useragent_counts.toPandas()\n",
    "useragent_counts = useragent_counts.dropna()\n",
    "get_browser_udf = udf(get_browser)\n",
    "useragent_counts1 = useragent_counts.withColumn(\"browser\",  get_browser_udf(\"userAgent\"))"
   ]
  },
  {
   "cell_type": "code",
   "execution_count": 131,
   "id": "d463b866",
   "metadata": {},
   "outputs": [
    {
     "name": "stderr",
     "output_type": "stream",
     "text": [
      "                                                                                \r"
     ]
    },
    {
     "data": {
      "image/png": "[encoded data removed]",
      "text/plain": [
       "<Figure size 432x288 with 1 Axes>"
      ]
     },
     "metadata": {
      "needs_background": "light"
     },
     "output_type": "display_data"
    }
   ],
   "source": [
    "plt.title(\"Distribution of browser\")\n",
    "useragent_counts1.toPandas().groupby('browser')['user_counts'].sum().sort_values().plot(kind='bar')\n",
    "plt.show()"
   ]
  },
  {
   "cell_type": "markdown",
   "id": "c5435112",
   "metadata": {},
   "source": [
    "# We see that Chrome browser is far most used, it's followed by firefox and safari. IE is very little bit used."
   ]
  },
  {
   "cell_type": "markdown",
   "id": "e78d5f3b",
   "metadata": {},
   "source": [
    "# User Analysis (Day & Time)"
   ]
  },
  {
   "cell_type": "code",
   "execution_count": 50,
   "id": "77056279",
   "metadata": {},
   "outputs": [
    {
     "name": "stderr",
     "output_type": "stream",
     "text": [
      "\r",
      "[Stage 155:>                                                        (0 + 1) / 1]\r"
     ]
    },
    {
     "name": "stdout",
     "output_type": "stream",
     "text": [
      "+-------------------+-------+\n",
      "|               time| userId|\n",
      "+-------------------+-------+\n",
      "|2018-09-30 20:00:01|1749042|\n",
      "|2018-09-30 20:00:02|1563081|\n",
      "|2018-09-30 20:00:02|1697168|\n",
      "|2018-09-30 20:00:03|1222580|\n",
      "|2018-09-30 20:00:03|1714398|\n",
      "|2018-09-30 20:00:04|1010522|\n",
      "|2018-09-30 20:00:05|1475659|\n",
      "|2018-09-30 20:00:06|1465194|\n",
      "|2018-09-30 20:00:06|1558463|\n",
      "|2018-09-30 20:00:06|1605667|\n",
      "|2018-09-30 20:00:06|1385500|\n",
      "|2018-09-30 20:00:06|1032628|\n",
      "|2018-09-30 20:00:07|1901081|\n",
      "|2018-09-30 20:00:07|1611729|\n",
      "|2018-09-30 20:00:08|1497881|\n",
      "|2018-09-30 20:00:08|1413952|\n",
      "|2018-09-30 20:00:08|1585800|\n",
      "|2018-09-30 20:00:08|1261737|\n",
      "|2018-09-30 20:00:08|1009070|\n",
      "|2018-09-30 20:00:10|1041334|\n",
      "+-------------------+-------+\n",
      "only showing top 20 rows\n",
      "\n"
     ]
    },
    {
     "name": "stderr",
     "output_type": "stream",
     "text": [
      "\r",
      "                                                                                \r"
     ]
    }
   ],
   "source": [
    "time_dt = valid_churn_df.select(\"time\", \"userId\")\n",
    "time_dt.show()"
   ]
  },
  {
   "cell_type": "code",
   "execution_count": 51,
   "id": "83212db7",
   "metadata": {},
   "outputs": [],
   "source": [
    "from pyspark.sql.functions import rand \n",
    "time_dt = time_dt.orderBy(rand())"
   ]
  },
  {
   "cell_type": "code",
   "execution_count": 52,
   "id": "116a6f93",
   "metadata": {},
   "outputs": [
    {
     "name": "stderr",
     "output_type": "stream",
     "text": [
      "                                                                                \r"
     ]
    },
    {
     "data": {
      "text/html": [
       "<div>\n",
       "<style scoped>\n",
       "    .dataframe tbody tr th:only-of-type {\n",
       "        vertical-align: middle;\n",
       "    }\n",
       "\n",
       "    .dataframe tbody tr th {\n",
       "        vertical-align: top;\n",
       "    }\n",
       "\n",
       "    .dataframe thead th {\n",
       "        text-align: right;\n",
       "    }\n",
       "</style>\n",
       "<table border=\"1\" class=\"dataframe\">\n",
       "  <thead>\n",
       "    <tr style=\"text-align: right;\">\n",
       "      <th></th>\n",
       "      <th>time</th>\n",
       "      <th>userId</th>\n",
       "    </tr>\n",
       "  </thead>\n",
       "  <tbody>\n",
       "    <tr>\n",
       "      <th>0</th>\n",
       "      <td>2018-10-08 09:45:35</td>\n",
       "      <td>1611418</td>\n",
       "    </tr>\n",
       "    <tr>\n",
       "      <th>1</th>\n",
       "      <td>2018-11-08 14:24:51</td>\n",
       "      <td>1291962</td>\n",
       "    </tr>\n",
       "    <tr>\n",
       "      <th>2</th>\n",
       "      <td>2018-11-28 16:41:36</td>\n",
       "      <td>1966004</td>\n",
       "    </tr>\n",
       "    <tr>\n",
       "      <th>3</th>\n",
       "      <td>2018-11-10 08:46:14</td>\n",
       "      <td>1056495</td>\n",
       "    </tr>\n",
       "    <tr>\n",
       "      <th>4</th>\n",
       "      <td>2018-10-27 07:29:01</td>\n",
       "      <td>1149569</td>\n",
       "    </tr>\n",
       "  </tbody>\n",
       "</table>\n",
       "</div>"
      ],
      "text/plain": [
       "                 time   userId\n",
       "0 2018-10-08 09:45:35  1611418\n",
       "1 2018-11-08 14:24:51  1291962\n",
       "2 2018-11-28 16:41:36  1966004\n",
       "3 2018-11-10 08:46:14  1056495\n",
       "4 2018-10-27 07:29:01  1149569"
      ]
     },
     "execution_count": 52,
     "metadata": {},
     "output_type": "execute_result"
    }
   ],
   "source": [
    "time_dt_pd = time_dt.limit(100000).toPandas()\n",
    "time_dt_pd['time'] = pd.to_datetime(time_dt_pd['time'])\n",
    "time_dt_pd.head()"
   ]
  },
  {
   "cell_type": "code",
   "execution_count": 53,
   "id": "634cecbb",
   "metadata": {},
   "outputs": [
    {
     "data": {
      "text/plain": [
       "<AxesSubplot:xlabel='weekday'>"
      ]
     },
     "execution_count": 53,
     "metadata": {},
     "output_type": "execute_result"
    },
    {
     "data": {
      "image/png": "[encoded data removed]",
      "text/plain": [
       "<Figure size 432x288 with 1 Axes>"
      ]
     },
     "metadata": {
      "needs_background": "light"
     },
     "output_type": "display_data"
    }
   ],
   "source": [
    "weekday_dict = {0:'Mon.',1:'Tues.',2:'Wed.',3:'Thur.',4:'Fri.',5:'Sat.',6:'Sun.'}\n",
    "time_dt_pd['weekday'] = time_dt_pd['time'].dt.weekday.map(weekday_dict)\n",
    "time_dt_pd['day'] = time_dt_pd['time'].dt.day\n",
    "time_dt_pd['hour'] = time_dt_pd['time'].dt.hour\n",
    "time_dt_pd.groupby('weekday')['userId'].count().loc[list(weekday_dict.values())].plot(kind='bar',color='#008000')"
   ]
  },
  {
   "cell_type": "code",
   "execution_count": 54,
   "id": "058d6432",
   "metadata": {},
   "outputs": [
    {
     "data": {
      "text/plain": [
       "<AxesSubplot:xlabel='day'>"
      ]
     },
     "execution_count": 54,
     "metadata": {},
     "output_type": "execute_result"
    },
    {
     "data": {
      "image/png": "[encoded data removed]",
      "text/plain": [
       "<Figure size 432x288 with 1 Axes>"
      ]
     },
     "metadata": {
      "needs_background": "light"
     },
     "output_type": "display_data"
    }
   ],
   "source": [
    "time_dt_pd.groupby('day')['userId'].count().plot(kind='bar',color='#008000')"
   ]
  },
  {
   "cell_type": "code",
   "execution_count": 55,
   "id": "52976622",
   "metadata": {},
   "outputs": [
    {
     "data": {
      "text/plain": [
       "<AxesSubplot:xlabel='hour'>"
      ]
     },
     "execution_count": 55,
     "metadata": {},
     "output_type": "execute_result"
    },
    {
     "data": {
      "image/png": "[encoded data removed]",
      "text/plain": [
       "<Figure size 432x288 with 1 Axes>"
      ]
     },
     "metadata": {
      "needs_background": "light"
     },
     "output_type": "display_data"
    }
   ],
   "source": [
    "time_dt_pd.groupby('hour')['userId'].count().plot(kind='bar',color=\"#008000\")"
   ]
  },
  {
   "cell_type": "markdown",
   "id": "91002a74",
   "metadata": {},
   "source": [
    "# Users' behaviors are periodic, they use Sparkify more often in workdays than weekend; In one single day, they use Sparkify more often after 14 o'clock."
   ]
  },
  {
   "cell_type": "markdown",
   "id": "2143b3c6",
   "metadata": {},
   "source": [
    "# Effect of each feature on churn (Analysis)"
   ]
  },
  {
   "cell_type": "code",
   "execution_count": 58,
   "id": "df589e57",
   "metadata": {},
   "outputs": [],
   "source": [
    "label_churn = udf(lambda x: \"Churn\" if x == 1 else \"Not churn\")\n",
    "user_churn = valid_churn_df.groupby(\"userId\").max(\"Churn\").withColumnRenamed(\"max(Churn)\", \"Churned\")"
   ]
  },
  {
   "cell_type": "code",
   "execution_count": 59,
   "id": "c9ccd95f",
   "metadata": {},
   "outputs": [],
   "source": [
    "def churned(df):\n",
    "    \"\"\"Create new Churned on pyspark df\n",
    "    Input \n",
    "     df spark: dataframe\n",
    "     \n",
    "    Output \n",
    "     spark df \n",
    "    \"\"\"\n",
    "    results = df.withColumn(\"Churned\", label_churn(\"Churn\"))\n",
    "    return results"
   ]
  },
  {
   "cell_type": "code",
   "execution_count": 60,
   "id": "3d491f32",
   "metadata": {},
   "outputs": [],
   "source": [
    "valid_churn_df = churned(valid_churn_df)"
   ]
  },
  {
   "cell_type": "code",
   "execution_count": 61,
   "id": "2de3f65d",
   "metadata": {},
   "outputs": [
    {
     "name": "stderr",
     "output_type": "stream",
     "text": [
      "[Stage 159:>                                                        (0 + 1) / 1]\r"
     ]
    },
    {
     "name": "stdout",
     "output_type": "stream",
     "text": [
      "+---------+-------+\n",
      "|     auth|Churned|\n",
      "+---------+-------+\n",
      "|Logged In|  Churn|\n",
      "|Logged In|  Churn|\n",
      "|Logged In|  Churn|\n",
      "|Logged In|  Churn|\n",
      "|Logged In|  Churn|\n",
      "|Logged In|  Churn|\n",
      "|Logged In|  Churn|\n",
      "|Logged In|  Churn|\n",
      "|Logged In|  Churn|\n",
      "|Logged In|  Churn|\n",
      "|Logged In|  Churn|\n",
      "|Logged In|  Churn|\n",
      "|Logged In|  Churn|\n",
      "|Logged In|  Churn|\n",
      "|Logged In|  Churn|\n",
      "|Logged In|  Churn|\n",
      "|Logged In|  Churn|\n",
      "|Logged In|  Churn|\n",
      "|Logged In|  Churn|\n",
      "|Logged In|  Churn|\n",
      "+---------+-------+\n",
      "only showing top 20 rows\n",
      "\n"
     ]
    },
    {
     "name": "stderr",
     "output_type": "stream",
     "text": [
      "\r",
      "                                                                                \r"
     ]
    }
   ],
   "source": [
    "valid_churn_df.select(\"auth\", \"Churned\").show()"
   ]
  },
  {
   "cell_type": "code",
   "execution_count": 62,
   "id": "1982a651",
   "metadata": {},
   "outputs": [
    {
     "name": "stderr",
     "output_type": "stream",
     "text": [
      "[Stage 162:============================================>            (7 + 2) / 9]\r"
     ]
    },
    {
     "name": "stdout",
     "output_type": "stream",
     "text": [
      "+---------+----------+-----+\n",
      "|  Churned|      auth|count|\n",
      "+---------+----------+-----+\n",
      "|    Churn| Logged In| 5003|\n",
      "|Not churn| Logged In|17274|\n",
      "|Not churn|Logged Out|    1|\n",
      "+---------+----------+-----+\n",
      "\n"
     ]
    },
    {
     "name": "stderr",
     "output_type": "stream",
     "text": [
      "\r",
      "                                                                                \r"
     ]
    }
   ],
   "source": [
    "valid_churn_df.dropDuplicates([\"userId\"]).groupby([\"Churned\", \"auth\"]).count().sort(\"Churned\").show()"
   ]
  },
  {
   "cell_type": "code",
   "execution_count": 63,
   "id": "38572e5e",
   "metadata": {},
   "outputs": [
    {
     "name": "stderr",
     "output_type": "stream",
     "text": [
      "[Stage 172:============================================>            (7 + 2) / 9]\r"
     ]
    },
    {
     "name": "stdout",
     "output_type": "stream",
     "text": [
      "+---------+------+-----+\n",
      "|  Churned|gender|count|\n",
      "+---------+------+-----+\n",
      "|    Churn|     F| 2347|\n",
      "|    Churn|     M| 2656|\n",
      "|Not churn|  null|    1|\n",
      "|Not churn|     M| 8995|\n",
      "|Not churn|     F| 8279|\n",
      "+---------+------+-----+\n",
      "\n"
     ]
    },
    {
     "name": "stderr",
     "output_type": "stream",
     "text": [
      "\r",
      "                                                                                \r"
     ]
    }
   ],
   "source": [
    "valid_churn_df.dropDuplicates([\"userId\", \"gender\"]).groupby([\"Churned\", \"gender\"]).count().sort(\"Churned\").show()"
   ]
  },
  {
   "cell_type": "code",
   "execution_count": 64,
   "id": "ecf468fc",
   "metadata": {},
   "outputs": [
    {
     "name": "stderr",
     "output_type": "stream",
     "text": [
      "[Stage 182:==================================================>      (8 + 1) / 9]\r"
     ]
    },
    {
     "name": "stdout",
     "output_type": "stream",
     "text": [
      "+---------+------------------+-----------------+----------+----------+\n",
      "|  Churned|       mean_length|     stdev_length|max_length|min_length|\n",
      "+---------+------------------+-----------------+----------+----------+\n",
      "|    Churn|  248.680031572098|97.31322630186042|3024.66567|     0.522|\n",
      "|Not churn|248.73752863664356|97.28014262879445|3024.66567|     0.522|\n",
      "+---------+------------------+-----------------+----------+----------+\n",
      "\n"
     ]
    },
    {
     "name": "stderr",
     "output_type": "stream",
     "text": [
      "\r",
      "                                                                                \r"
     ]
    }
   ],
   "source": [
    "valid_churn_df.select([\"Churned\", \"length\"]).groupby([\"Churned\"]).agg(avg('length').alias('mean_length'), \n",
    "                                                                     stddev('length').alias('stdev_length'),\n",
    "                                                                     fmax('length').alias('max_length'),\n",
    "                                                                     fmin('length').alias('min_length')).show()"
   ]
  },
  {
   "cell_type": "code",
   "execution_count": 65,
   "id": "0913fcec",
   "metadata": {},
   "outputs": [
    {
     "name": "stderr",
     "output_type": "stream",
     "text": [
      "[Stage 188:==================================================>      (8 + 1) / 9]\r"
     ]
    },
    {
     "name": "stdout",
     "output_type": "stream",
     "text": [
      "+---------+-----+-----+\n",
      "|  Churned|level|count|\n",
      "+---------+-----+-----+\n",
      "|    Churn| paid| 1239|\n",
      "|    Churn| free| 3764|\n",
      "|Not churn| free|13484|\n",
      "|Not churn| paid| 3791|\n",
      "+---------+-----+-----+\n",
      "\n"
     ]
    },
    {
     "name": "stderr",
     "output_type": "stream",
     "text": [
      "\r",
      "                                                                                \r"
     ]
    }
   ],
   "source": [
    "valid_churn_df.dropDuplicates([\"userId\"]).groupby([\"Churned\", \"level\"]).count().sort(\"Churned\").show()"
   ]
  },
  {
   "cell_type": "markdown",
   "id": "426abb1e",
   "metadata": {},
   "source": [
    "### Location"
   ]
  },
  {
   "cell_type": "code",
   "execution_count": 66,
   "id": "ba86ff6a",
   "metadata": {},
   "outputs": [],
   "source": [
    "def normalize_data(groupby_data):\n",
    "    groupby_series = groupby_data.set_index(list(groupby_data.columns[:2]))\n",
    "    temp = groupby_series.unstack('Churned').fillna(0)\n",
    "    df = pd.DataFrame(((temp - temp.min()) / (temp.max() - temp.min())).stack()).reset_index()\n",
    "    df = df.rename(columns={df.columns[-1]: 'results'})\n",
    "    return df"
   ]
  },
  {
   "cell_type": "code",
   "execution_count": 67,
   "id": "73dbcaa5",
   "metadata": {},
   "outputs": [
    {
     "name": "stderr",
     "output_type": "stream",
     "text": [
      "                                                                                \r"
     ]
    },
    {
     "data": {
      "text/html": [
       "<div>\n",
       "<style scoped>\n",
       "    .dataframe tbody tr th:only-of-type {\n",
       "        vertical-align: middle;\n",
       "    }\n",
       "\n",
       "    .dataframe tbody tr th {\n",
       "        vertical-align: top;\n",
       "    }\n",
       "\n",
       "    .dataframe thead th {\n",
       "        text-align: right;\n",
       "    }\n",
       "</style>\n",
       "<table border=\"1\" class=\"dataframe\">\n",
       "  <thead>\n",
       "    <tr style=\"text-align: right;\">\n",
       "      <th></th>\n",
       "      <th>state</th>\n",
       "      <th>Churned</th>\n",
       "      <th>results</th>\n",
       "    </tr>\n",
       "  </thead>\n",
       "  <tbody>\n",
       "    <tr>\n",
       "      <th>0</th>\n",
       "      <td>NaN</td>\n",
       "      <td>Churn</td>\n",
       "      <td>0.000000</td>\n",
       "    </tr>\n",
       "    <tr>\n",
       "      <th>1</th>\n",
       "      <td>NaN</td>\n",
       "      <td>Not churn</td>\n",
       "      <td>0.000000</td>\n",
       "    </tr>\n",
       "    <tr>\n",
       "      <th>2</th>\n",
       "      <td>AK</td>\n",
       "      <td>Churn</td>\n",
       "      <td>0.013180</td>\n",
       "    </tr>\n",
       "    <tr>\n",
       "      <th>3</th>\n",
       "      <td>AK</td>\n",
       "      <td>Not churn</td>\n",
       "      <td>0.011384</td>\n",
       "    </tr>\n",
       "    <tr>\n",
       "      <th>4</th>\n",
       "      <td>AL</td>\n",
       "      <td>Churn</td>\n",
       "      <td>0.108731</td>\n",
       "    </tr>\n",
       "  </tbody>\n",
       "</table>\n",
       "</div>"
      ],
      "text/plain": [
       "  state    Churned   results\n",
       "0   NaN      Churn  0.000000\n",
       "1   NaN  Not churn  0.000000\n",
       "2    AK      Churn  0.013180\n",
       "3    AK  Not churn  0.011384\n",
       "4    AL      Churn  0.108731"
      ]
     },
     "execution_count": 67,
     "metadata": {},
     "output_type": "execute_result"
    }
   ],
   "source": [
    "split_city_state = split(valid_churn_df['location'], ',')\n",
    "valid_churn_df = valid_churn_df.withColumn('state', split_city_state.getItem(1))\n",
    "state_data = valid_churn_df.dropDuplicates([\"userId\"]).groupby([\"state\",\"Churned\"])\\\n",
    "            .count().sort(\"state\").toPandas()\n",
    "normalize_state_data = normalize_data(state_data)\n",
    "normalize_state_data.head()\n"
   ]
  },
  {
   "cell_type": "code",
   "execution_count": 68,
   "id": "f3e49efc",
   "metadata": {},
   "outputs": [
    {
     "data": {
      "image/png": "[encoded data removed]",
      "text/plain": [
       "<Figure size 720x1080 with 1 Axes>"
      ]
     },
     "metadata": {
      "needs_background": "light"
     },
     "output_type": "display_data"
    }
   ],
   "source": [
    "fig, ax = plt.subplots(figsize=(10,15))\n",
    "sns.barplot( x=\"results\", y=\"state\", hue=\"Churned\",\n",
    "            data=normalize_state_data, ax=ax)\n",
    "plt.show()"
   ]
  },
  {
   "cell_type": "markdown",
   "id": "56d230c5",
   "metadata": {},
   "source": [
    "### Page"
   ]
  },
  {
   "cell_type": "code",
   "execution_count": 69,
   "id": "0dc19fc2",
   "metadata": {},
   "outputs": [
    {
     "name": "stderr",
     "output_type": "stream",
     "text": [
      "[Stage 217:==================================================>      (8 + 1) / 9]\r"
     ]
    },
    {
     "name": "stdout",
     "output_type": "stream",
     "text": [
      "+---------+--------------------+--------+\n",
      "|  Churned|                page|   count|\n",
      "+---------+--------------------+--------+\n",
      "|Not churn|               About|   82657|\n",
      "|    Churn|               About|   10102|\n",
      "|Not churn|          Add Friend|  301654|\n",
      "|    Churn|          Add Friend|   80010|\n",
      "|    Churn|     Add to Playlist|  124656|\n",
      "|Not churn|     Add to Playlist|  473265|\n",
      "|    Churn|              Cancel|    5003|\n",
      "|    Churn|Cancellation Conf...|    5003|\n",
      "|    Churn|           Downgrade|   43424|\n",
      "|Not churn|           Downgrade|  140816|\n",
      "|    Churn|               Error|    5330|\n",
      "|Not churn|               Error|   20632|\n",
      "|Not churn|                Help|  127598|\n",
      "|    Churn|                Help|   27502|\n",
      "|Not churn|                Home| 1145400|\n",
      "|    Churn|                Home|  197702|\n",
      "|Not churn|               Login|  296350|\n",
      "|Not churn|              Logout|  233305|\n",
      "|    Churn|              Logout|   62700|\n",
      "|Not churn|            NextSong|16463996|\n",
      "+---------+--------------------+--------+\n",
      "only showing top 20 rows\n",
      "\n"
     ]
    },
    {
     "name": "stderr",
     "output_type": "stream",
     "text": [
      "\r",
      "                                                                                \r"
     ]
    }
   ],
   "source": [
    "valid_churn_df.select([\"Churned\", \"page\"]).groupby([\"Churned\", \"page\"]).count().sort(\"page\").show()"
   ]
  },
  {
   "cell_type": "code",
   "execution_count": 70,
   "id": "9c3f177c",
   "metadata": {},
   "outputs": [
    {
     "name": "stderr",
     "output_type": "stream",
     "text": [
      "                                                                                \r"
     ]
    }
   ],
   "source": [
    "page_data = valid_churn_df.select([\"Churned\", \"page\"]).groupby([\"Churned\", \"page\"]).count().sort(\"page\").toPandas()\n",
    "page_data = normalize_data(page_data)\n"
   ]
  },
  {
   "cell_type": "code",
   "execution_count": 71,
   "id": "e8fc90fe",
   "metadata": {},
   "outputs": [
    {
     "data": {
      "image/png": "[encoded data removed]",
      "text/plain": [
       "<Figure size 576x576 with 1 Axes>"
      ]
     },
     "metadata": {
      "needs_background": "light"
     },
     "output_type": "display_data"
    }
   ],
   "source": [
    "fig, ax = plt.subplots(figsize=(8,8))\n",
    "sns.barplot(x=\"results\", y=\"page\", hue=\"Churned\",\n",
    "            data=page_data,ax=ax)\n",
    "plt.show()"
   ]
  },
  {
   "cell_type": "markdown",
   "id": "5f9d7afa",
   "metadata": {},
   "source": [
    "# NextSong,Thumbs Up/Down, Home, Add to Playlist page's seems to have effect on Churn or not."
   ]
  },
  {
   "cell_type": "code",
   "execution_count": null,
   "id": "e6393efa",
   "metadata": {},
   "outputs": [],
   "source": []
  }
 ],
 "metadata": {
  "kernelspec": {
   "display_name": "Python 3",
   "language": "python",
   "name": "python3"
  },
  "language_info": {
   "codemirror_mode": {
    "name": "ipython",
    "version": 3
   },
   "file_extension": ".py",
   "mimetype": "text/x-python",
   "name": "python",
   "nbconvert_exporter": "python",
   "pygments_lexer": "ipython3",
   "version": "3.9.12"
  }
 },
 "nbformat": 4,
 "nbformat_minor": 5
}
