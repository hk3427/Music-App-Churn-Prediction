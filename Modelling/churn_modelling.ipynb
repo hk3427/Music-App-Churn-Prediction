{
 "cells": [
  {
   "cell_type": "code",
   "execution_count": 1,
   "id": "968f7717",
   "metadata": {},
   "outputs": [
    {
     "name": "stdout",
     "output_type": "stream",
     "text": [
      "Welcome to\n",
      "      ____              __\n",
      "     / __/__  ___ _____/ /__\n",
      "    _\\ \\/ _ \\/ _ `/ __/  '_/\n",
      "   /__ / .__/\\_,_/_/ /_/\\_\\   version 3.2.1\n",
      "      /_/\n",
      "\n",
      "Using Python version 3.8.8 (default, Apr 13 2021 12:59:45)\n",
      "Spark context Web UI available at http://akhileshs-mbp.lan:4040\n",
      "Spark context available as 'sc' (master = local[*], app id = local-1652152319195).\n",
      "SparkSession available as 'spark'.\n"
     ]
    }
   ],
   "source": [
    "import os\n",
    "exec(open(os.path.join(os.environ[\"SPARK_HOME\"], 'python/pyspark/shell.py')).read())"
   ]
  },
  {
   "cell_type": "code",
   "execution_count": 2,
   "id": "d9496fdf",
   "metadata": {},
   "outputs": [],
   "source": [
    "import pyspark\n",
    "from pyspark.sql.session import SparkSession\n",
    "spark = SparkSession.builder.appName(\"Churn Prediction\").getOrCreate()\n",
    "spark.sparkContext.setLogLevel('INFO')"
   ]
  },
  {
   "cell_type": "code",
   "execution_count": 3,
   "id": "d0a81ad9",
   "metadata": {},
   "outputs": [],
   "source": [
    "spark.sparkContext.setLogLevel('ERROR')"
   ]
  },
  {
   "cell_type": "code",
   "execution_count": 4,
   "id": "907d0577",
   "metadata": {},
   "outputs": [
    {
     "data": {
      "text/plain": [
       "[('spark.driver.memory', '12g'),\n",
       " ('spark.sql.warehouse.dir',\n",
       "  'file:/Users/akhilesh/college/Big%20Data/Project/spark-warehouse'),\n",
       " ('spark.driver.host', 'akhileshs-mbp.lan'),\n",
       " ('spark.executor.id', 'driver'),\n",
       " ('spark.app.name', 'PySparkShell'),\n",
       " ('spark.app.startTime', '1652152318365'),\n",
       " ('spark.sql.catalogImplementation', 'hive'),\n",
       " ('spark.app.id', 'local-1652152319195'),\n",
       " ('spark.rdd.compress', 'True'),\n",
       " ('spark.serializer.objectStreamReset', '100'),\n",
       " ('spark.driver.port', '57959'),\n",
       " ('spark.master', 'local[*]'),\n",
       " ('spark.submit.pyFiles', ''),\n",
       " ('spark.submit.deployMode', 'client'),\n",
       " ('spark.ui.showConsoleProgress', 'true')]"
      ]
     },
     "execution_count": 4,
     "metadata": {},
     "output_type": "execute_result"
    }
   ],
   "source": [
    "spark.sparkContext.getConf().getAll()"
   ]
  },
  {
   "cell_type": "code",
   "execution_count": 5,
   "id": "dbb879c8",
   "metadata": {},
   "outputs": [
    {
     "name": "stdout",
     "output_type": "stream",
     "text": [
      "Requirement already satisfied: jupyter_utils in /Users/akhilesh/college/anaconda/anaconda3/lib/python3.8/site-packages (1.2.6)\n",
      "Requirement already satisfied: scikit-learn>=0.17 in /Users/akhilesh/college/anaconda/anaconda3/lib/python3.8/site-packages (from jupyter_utils) (1.0.2)\n",
      "Requirement already satisfied: pbr>=1.6 in /Users/akhilesh/college/anaconda/anaconda3/lib/python3.8/site-packages (from jupyter_utils) (5.9.0)\n",
      "Requirement already satisfied: numpy>=1.11 in /Users/akhilesh/college/anaconda/anaconda3/lib/python3.8/site-packages (from jupyter_utils) (1.21.5)\n",
      "Requirement already satisfied: scipy>=0.17 in /Users/akhilesh/college/anaconda/anaconda3/lib/python3.8/site-packages (from jupyter_utils) (1.7.3)\n",
      "Requirement already satisfied: joblib>=0.11 in /Users/akhilesh/college/anaconda/anaconda3/lib/python3.8/site-packages (from scikit-learn>=0.17->jupyter_utils) (1.1.0)\n",
      "Requirement already satisfied: threadpoolctl>=2.0.0 in /Users/akhilesh/college/anaconda/anaconda3/lib/python3.8/site-packages (from scikit-learn>=0.17->jupyter_utils) (2.2.0)\n"
     ]
    }
   ],
   "source": [
    "!pip install jupyter_utils"
   ]
  },
  {
   "cell_type": "code",
   "execution_count": 6,
   "id": "d77df923",
   "metadata": {},
   "outputs": [
    {
     "data": {
      "text/html": [
       "<style>.container { width:100% !important; }</style>"
      ],
      "text/plain": [
       "<IPython.core.display.HTML object>"
      ]
     },
     "metadata": {},
     "output_type": "display_data"
    }
   ],
   "source": [
    "from datetime import datetime\n",
    "\n",
    "import numpy as np\n",
    "\n",
    "from sklearn.metrics import confusion_matrix\n",
    "\n",
    "from pyspark.sql import SparkSession\n",
    "\n",
    "from pyspark.sql.functions import min as smin, max as smax, sum as ssum, round as sround, abs as sabs, pow as spow\n",
    "from pyspark.sql.functions import isnan, isnull, when, first, avg, sqrt, last, count, countDistinct, col, lag, lead, coalesce, lit, split, trim\n",
    "\n",
    "from pyspark.sql.window import Window\n",
    "from pyspark.sql.functions import to_date, date_format, from_unixtime, to_timestamp\n",
    "\n",
    "from pyspark.sql.types import DateType, TimestampType, IntegerType\n",
    " \n",
    "import jupyter_utils as j\n",
    "\n",
    "from pyspark import SparkContext\n",
    "\n",
    "from pyspark.ml import Pipeline\n",
    "from pyspark.ml.classification import RandomForestClassifier, GBTClassifier, DecisionTreeClassifier\n",
    "from pyspark.ml.feature import IndexToString, StringIndexer, VectorIndexer, VectorAssembler\n",
    "from pyspark.ml.evaluation import MulticlassClassificationEvaluator\n",
    "from pyspark.ml.feature import StandardScaler, MaxAbsScaler, Normalizer, MinMaxScaler, StringIndexer, VectorAssembler\n",
    "\n",
    "from pyspark.ml.tuning import CrossValidator, ParamGridBuilder\n",
    "from pyspark.ml.evaluation import BinaryClassificationEvaluator\n",
    " \n",
    "from pyspark.ml.evaluation import BinaryClassificationEvaluator, Evaluator\n",
    "from pyspark import since, keyword_only\n",
    "\n",
    "from sklearn.metrics import roc_auc_score, roc_curve, auc, classification_report"
   ]
  },
  {
   "cell_type": "code",
   "execution_count": 7,
   "id": "c32a856f",
   "metadata": {},
   "outputs": [
    {
     "data": {
      "text/html": [
       "<style>.container { width:100% !important; }</style>"
      ],
      "text/plain": [
       "<IPython.core.display.HTML object>"
      ]
     },
     "metadata": {},
     "output_type": "display_data"
    }
   ],
   "source": [
    "j.reload(j)"
   ]
  },
  {
   "cell_type": "markdown",
   "id": "5f5cd009",
   "metadata": {},
   "source": [
    "# Load Data "
   ]
  },
  {
   "cell_type": "code",
   "execution_count": 8,
   "id": "f2500a01",
   "metadata": {},
   "outputs": [],
   "source": [
    "def spark_read(spark):\n",
    "    return spark.read.option('inferSchema', 'true').option('header', 'true').option('encoding', 'utf-8')"
   ]
  },
  {
   "cell_type": "code",
   "execution_count": 9,
   "id": "4a41c879",
   "metadata": {},
   "outputs": [],
   "source": [
    "def load_full_json_file(spark):\n",
    "    df = spark_read(spark).json('sparkify_event_data.json')\n",
    "    return df"
   ]
  },
  {
   "cell_type": "code",
   "execution_count": 10,
   "id": "0879c350",
   "metadata": {},
   "outputs": [
    {
     "name": "stderr",
     "output_type": "stream",
     "text": [
      "                                                                                \r"
     ]
    }
   ],
   "source": [
    "df = load_full_json_file(spark)"
   ]
  },
  {
   "cell_type": "code",
   "execution_count": 11,
   "id": "862f179e",
   "metadata": {},
   "outputs": [
    {
     "data": {
      "text/plain": [
       "DataFrame[artist: string, auth: string, firstName: string, gender: string, itemInSession: bigint, lastName: string, length: double, level: string, location: string, method: string, page: string, registration: bigint, sessionId: bigint, song: string, status: bigint, ts: bigint, userAgent: string, userId: string]"
      ]
     },
     "execution_count": 11,
     "metadata": {},
     "output_type": "execute_result"
    }
   ],
   "source": [
    "df.cache()"
   ]
  },
  {
   "cell_type": "code",
   "execution_count": 12,
   "id": "d78335c3",
   "metadata": {},
   "outputs": [
    {
     "name": "stdout",
     "output_type": "stream",
     "text": [
      "Logger instance created\n",
      "Storage set to MEMORY_ONLY\n"
     ]
    }
   ],
   "source": [
    "from pyspark import StorageLevel\n",
    "\n",
    "log4jLogger = spark.sparkContext._jvm.org.apache.log4j\n",
    "\n",
    "LOGGER = log4jLogger.LogManager.getLogger('driver_logger')\n",
    "\n",
    "def info(message, print_on_notebook = True):\n",
    "    LOGGER.info(message)\n",
    "    \n",
    "    if print_on_notebook:\n",
    "        print(message)\n",
    "        \n",
    "def set_storage_on_memory(df):\n",
    "    df.persist(StorageLevel.MEMORY_ONLY)\n",
    "    info('Storage set to MEMORY_ONLY')\n",
    "\n",
    "info('Logger instance created')\n",
    "\n",
    "set_storage_on_memory(df)"
   ]
  },
  {
   "cell_type": "code",
   "execution_count": 13,
   "id": "f3ed1d01",
   "metadata": {},
   "outputs": [
    {
     "name": "stderr",
     "output_type": "stream",
     "text": [
      "                                                                                \r"
     ]
    },
    {
     "data": {
      "text/plain": [
       "26259199"
      ]
     },
     "execution_count": 13,
     "metadata": {},
     "output_type": "execute_result"
    }
   ],
   "source": [
    "df.count()"
   ]
  },
  {
   "cell_type": "code",
   "execution_count": 14,
   "id": "ff2ca7ee",
   "metadata": {},
   "outputs": [
    {
     "name": "stdout",
     "output_type": "stream",
     "text": [
      "root\n",
      " |-- artist: string (nullable = true)\n",
      " |-- auth: string (nullable = true)\n",
      " |-- firstName: string (nullable = true)\n",
      " |-- gender: string (nullable = true)\n",
      " |-- itemInSession: long (nullable = true)\n",
      " |-- lastName: string (nullable = true)\n",
      " |-- length: double (nullable = true)\n",
      " |-- level: string (nullable = true)\n",
      " |-- location: string (nullable = true)\n",
      " |-- method: string (nullable = true)\n",
      " |-- page: string (nullable = true)\n",
      " |-- registration: long (nullable = true)\n",
      " |-- sessionId: long (nullable = true)\n",
      " |-- song: string (nullable = true)\n",
      " |-- status: long (nullable = true)\n",
      " |-- ts: long (nullable = true)\n",
      " |-- userAgent: string (nullable = true)\n",
      " |-- userId: string (nullable = true)\n",
      "\n"
     ]
    }
   ],
   "source": [
    "df.printSchema()"
   ]
  },
  {
   "cell_type": "markdown",
   "id": "e5d59a11",
   "metadata": {},
   "source": [
    "# Data Cleaning"
   ]
  },
  {
   "cell_type": "markdown",
   "id": "95259d07",
   "metadata": {},
   "source": [
    "### Considering records for logged in user sessions. Thus, removing guest or logged out users as we would not be able to obtain future sessions for these user IDs"
   ]
  },
  {
   "cell_type": "code",
   "execution_count": 15,
   "id": "5ce3fd52",
   "metadata": {},
   "outputs": [
    {
     "name": "stderr",
     "output_type": "stream",
     "text": [
      "                                                                                \r"
     ]
    },
    {
     "data": {
      "text/plain": [
       "[Row(auth='Logged Out'),\n",
       " Row(auth='Cancelled'),\n",
       " Row(auth='Guest'),\n",
       " Row(auth='Logged In')]"
      ]
     },
     "execution_count": 15,
     "metadata": {},
     "output_type": "execute_result"
    }
   ],
   "source": [
    "df.select('auth').distinct().collect()"
   ]
  },
  {
   "cell_type": "code",
   "execution_count": 16,
   "id": "f3ca4f66",
   "metadata": {},
   "outputs": [
    {
     "data": {
      "text/plain": [
       "778479"
      ]
     },
     "execution_count": 16,
     "metadata": {},
     "output_type": "execute_result"
    }
   ],
   "source": [
    "df.where(df.auth.isin(['Guest', 'Logged Out'])).count()"
   ]
  },
  {
   "cell_type": "markdown",
   "id": "329ab0d9",
   "metadata": {},
   "source": [
    "### Checking if records have user IDs present or not ?"
   ]
  },
  {
   "cell_type": "code",
   "execution_count": 17,
   "id": "9b7d2bad",
   "metadata": {},
   "outputs": [
    {
     "data": {
      "text/plain": [
       "0"
      ]
     },
     "execution_count": 17,
     "metadata": {},
     "output_type": "execute_result"
    }
   ],
   "source": [
    "df.where(col('userId').isNull()).count()"
   ]
  },
  {
   "cell_type": "markdown",
   "id": "7b8c2cc0",
   "metadata": {},
   "source": [
    "# Creating a new user columns based on the page analysis and its timestamp. Creating a window and extracting the featrure set "
   ]
  },
  {
   "cell_type": "code",
   "execution_count": 18,
   "id": "2696addb",
   "metadata": {},
   "outputs": [],
   "source": [
    "df = df.where(df.auth.isin(['Logged In', 'Cancelled']))\n",
    "df = df.withColumn('date', from_unixtime(col('ts') / 1000).cast(DateType()))"
   ]
  },
  {
   "cell_type": "code",
   "execution_count": 19,
   "id": "e7683dcd",
   "metadata": {},
   "outputs": [],
   "source": [
    "w_session = Window.partitionBy('sessionId').orderBy('ts')\n",
    "df = df.withColumn('previous_page', lag(df.page).over(w_session))\n"
   ]
  },
  {
   "cell_type": "code",
   "execution_count": 20,
   "id": "1dbe0010",
   "metadata": {},
   "outputs": [],
   "source": [
    "w_user = Window.partitionBy('userId').orderBy('ts').rangeBetween(Window.unboundedPreceding, Window.unboundedFollowing)\n",
    "df = df.withColumn('last_event_ts', last(col('ts')).over(w_user))"
   ]
  },
  {
   "cell_type": "code",
   "execution_count": 21,
   "id": "26300ca9",
   "metadata": {},
   "outputs": [],
   "source": [
    "df = df.withColumn('last_page', last(col('page')).over(w_user))\n",
    "df = df.withColumn('register_page', first(col('previous_page')).over(w_user))\n",
    "df = df.withColumn('first_ts', first(col('ts')).over(w_user))"
   ]
  },
  {
   "cell_type": "code",
   "execution_count": 22,
   "id": "f05a1fc1",
   "metadata": {},
   "outputs": [],
   "source": [
    "w_user_session = Window.partitionBy('sessionId', 'userId').orderBy('ts').rangeBetween(Window.unboundedPreceding, Window.unboundedFollowing)\n",
    "df = df.withColumn('ts_elapsed', last(df.ts).over(w_session) - first(df.ts).over(w_user_session))\n",
    "df = df.withColumn('session_duration', smax(df.ts_elapsed).over(w_user_session))"
   ]
  },
  {
   "cell_type": "code",
   "execution_count": 23,
   "id": "8929a19c",
   "metadata": {
    "scrolled": true
   },
   "outputs": [
    {
     "name": "stderr",
     "output_type": "stream",
     "text": [
      "                                                                                \r"
     ]
    },
    {
     "data": {
      "text/html": [
       "<div>\n",
       "<style scoped>\n",
       "    .dataframe tbody tr th:only-of-type {\n",
       "        vertical-align: middle;\n",
       "    }\n",
       "\n",
       "    .dataframe tbody tr th {\n",
       "        vertical-align: top;\n",
       "    }\n",
       "\n",
       "    .dataframe thead th {\n",
       "        text-align: right;\n",
       "    }\n",
       "</style>\n",
       "<table border=\"1\" class=\"dataframe\">\n",
       "  <thead>\n",
       "    <tr style=\"text-align: right;\">\n",
       "      <th></th>\n",
       "      <th>artist</th>\n",
       "      <th>auth</th>\n",
       "      <th>firstName</th>\n",
       "      <th>gender</th>\n",
       "      <th>itemInSession</th>\n",
       "      <th>lastName</th>\n",
       "      <th>length</th>\n",
       "      <th>level</th>\n",
       "      <th>location</th>\n",
       "      <th>method</th>\n",
       "      <th>...</th>\n",
       "      <th>userAgent</th>\n",
       "      <th>userId</th>\n",
       "      <th>date</th>\n",
       "      <th>previous_page</th>\n",
       "      <th>last_event_ts</th>\n",
       "      <th>last_page</th>\n",
       "      <th>register_page</th>\n",
       "      <th>first_ts</th>\n",
       "      <th>ts_elapsed</th>\n",
       "      <th>session_duration</th>\n",
       "    </tr>\n",
       "  </thead>\n",
       "  <tbody>\n",
       "    <tr>\n",
       "      <th>0</th>\n",
       "      <td>None</td>\n",
       "      <td>Logged In</td>\n",
       "      <td>Ethan</td>\n",
       "      <td>M</td>\n",
       "      <td>0</td>\n",
       "      <td>Raymond</td>\n",
       "      <td>NaN</td>\n",
       "      <td>free</td>\n",
       "      <td>Hartford-West Hartford-East Hartford, CT</td>\n",
       "      <td>GET</td>\n",
       "      <td>...</td>\n",
       "      <td>\"Mozilla/5.0 (Windows NT 6.3; WOW64) AppleWebK...</td>\n",
       "      <td>1528635</td>\n",
       "      <td>2018-10-01</td>\n",
       "      <td>None</td>\n",
       "      <td>1543412707000</td>\n",
       "      <td>Roll Advert</td>\n",
       "      <td>None</td>\n",
       "      <td>1538400348000</td>\n",
       "      <td>0</td>\n",
       "      <td>1365000</td>\n",
       "    </tr>\n",
       "    <tr>\n",
       "      <th>1</th>\n",
       "      <td>3OH!3</td>\n",
       "      <td>Logged In</td>\n",
       "      <td>Ethan</td>\n",
       "      <td>M</td>\n",
       "      <td>1</td>\n",
       "      <td>Raymond</td>\n",
       "      <td>196.28363</td>\n",
       "      <td>free</td>\n",
       "      <td>Hartford-West Hartford-East Hartford, CT</td>\n",
       "      <td>PUT</td>\n",
       "      <td>...</td>\n",
       "      <td>\"Mozilla/5.0 (Windows NT 6.3; WOW64) AppleWebK...</td>\n",
       "      <td>1528635</td>\n",
       "      <td>2018-10-01</td>\n",
       "      <td>Home</td>\n",
       "      <td>1543412707000</td>\n",
       "      <td>Roll Advert</td>\n",
       "      <td>None</td>\n",
       "      <td>1538400348000</td>\n",
       "      <td>32000</td>\n",
       "      <td>1365000</td>\n",
       "    </tr>\n",
       "    <tr>\n",
       "      <th>2</th>\n",
       "      <td>Eminem</td>\n",
       "      <td>Logged In</td>\n",
       "      <td>Ethan</td>\n",
       "      <td>M</td>\n",
       "      <td>2</td>\n",
       "      <td>Raymond</td>\n",
       "      <td>251.55873</td>\n",
       "      <td>free</td>\n",
       "      <td>Hartford-West Hartford-East Hartford, CT</td>\n",
       "      <td>PUT</td>\n",
       "      <td>...</td>\n",
       "      <td>\"Mozilla/5.0 (Windows NT 6.3; WOW64) AppleWebK...</td>\n",
       "      <td>1528635</td>\n",
       "      <td>2018-10-01</td>\n",
       "      <td>NextSong</td>\n",
       "      <td>1543412707000</td>\n",
       "      <td>Roll Advert</td>\n",
       "      <td>None</td>\n",
       "      <td>1538400348000</td>\n",
       "      <td>228000</td>\n",
       "      <td>1365000</td>\n",
       "    </tr>\n",
       "    <tr>\n",
       "      <th>3</th>\n",
       "      <td>Bebel Gilberto</td>\n",
       "      <td>Logged In</td>\n",
       "      <td>Ethan</td>\n",
       "      <td>M</td>\n",
       "      <td>3</td>\n",
       "      <td>Raymond</td>\n",
       "      <td>389.58975</td>\n",
       "      <td>free</td>\n",
       "      <td>Hartford-West Hartford-East Hartford, CT</td>\n",
       "      <td>PUT</td>\n",
       "      <td>...</td>\n",
       "      <td>\"Mozilla/5.0 (Windows NT 6.3; WOW64) AppleWebK...</td>\n",
       "      <td>1528635</td>\n",
       "      <td>2018-10-01</td>\n",
       "      <td>NextSong</td>\n",
       "      <td>1543412707000</td>\n",
       "      <td>Roll Advert</td>\n",
       "      <td>None</td>\n",
       "      <td>1538400348000</td>\n",
       "      <td>479000</td>\n",
       "      <td>1365000</td>\n",
       "    </tr>\n",
       "    <tr>\n",
       "      <th>4</th>\n",
       "      <td>GHINZU</td>\n",
       "      <td>Logged In</td>\n",
       "      <td>Ethan</td>\n",
       "      <td>M</td>\n",
       "      <td>4</td>\n",
       "      <td>Raymond</td>\n",
       "      <td>209.44934</td>\n",
       "      <td>free</td>\n",
       "      <td>Hartford-West Hartford-East Hartford, CT</td>\n",
       "      <td>PUT</td>\n",
       "      <td>...</td>\n",
       "      <td>\"Mozilla/5.0 (Windows NT 6.3; WOW64) AppleWebK...</td>\n",
       "      <td>1528635</td>\n",
       "      <td>2018-10-01</td>\n",
       "      <td>NextSong</td>\n",
       "      <td>1543412707000</td>\n",
       "      <td>Roll Advert</td>\n",
       "      <td>None</td>\n",
       "      <td>1538400348000</td>\n",
       "      <td>868000</td>\n",
       "      <td>1365000</td>\n",
       "    </tr>\n",
       "    <tr>\n",
       "      <th>5</th>\n",
       "      <td>Flipsyde</td>\n",
       "      <td>Logged In</td>\n",
       "      <td>Ethan</td>\n",
       "      <td>M</td>\n",
       "      <td>5</td>\n",
       "      <td>Raymond</td>\n",
       "      <td>236.56444</td>\n",
       "      <td>free</td>\n",
       "      <td>Hartford-West Hartford-East Hartford, CT</td>\n",
       "      <td>PUT</td>\n",
       "      <td>...</td>\n",
       "      <td>\"Mozilla/5.0 (Windows NT 6.3; WOW64) AppleWebK...</td>\n",
       "      <td>1528635</td>\n",
       "      <td>2018-10-01</td>\n",
       "      <td>NextSong</td>\n",
       "      <td>1543412707000</td>\n",
       "      <td>Roll Advert</td>\n",
       "      <td>None</td>\n",
       "      <td>1538400348000</td>\n",
       "      <td>1077000</td>\n",
       "      <td>1365000</td>\n",
       "    </tr>\n",
       "    <tr>\n",
       "      <th>6</th>\n",
       "      <td>Jin</td>\n",
       "      <td>Logged In</td>\n",
       "      <td>Ethan</td>\n",
       "      <td>M</td>\n",
       "      <td>6</td>\n",
       "      <td>Raymond</td>\n",
       "      <td>117.36771</td>\n",
       "      <td>free</td>\n",
       "      <td>Hartford-West Hartford-East Hartford, CT</td>\n",
       "      <td>PUT</td>\n",
       "      <td>...</td>\n",
       "      <td>\"Mozilla/5.0 (Windows NT 6.3; WOW64) AppleWebK...</td>\n",
       "      <td>1528635</td>\n",
       "      <td>2018-10-01</td>\n",
       "      <td>NextSong</td>\n",
       "      <td>1543412707000</td>\n",
       "      <td>Roll Advert</td>\n",
       "      <td>None</td>\n",
       "      <td>1538400348000</td>\n",
       "      <td>1313000</td>\n",
       "      <td>1365000</td>\n",
       "    </tr>\n",
       "    <tr>\n",
       "      <th>7</th>\n",
       "      <td>None</td>\n",
       "      <td>Logged In</td>\n",
       "      <td>Ethan</td>\n",
       "      <td>M</td>\n",
       "      <td>7</td>\n",
       "      <td>Raymond</td>\n",
       "      <td>NaN</td>\n",
       "      <td>free</td>\n",
       "      <td>Hartford-West Hartford-East Hartford, CT</td>\n",
       "      <td>GET</td>\n",
       "      <td>...</td>\n",
       "      <td>\"Mozilla/5.0 (Windows NT 6.3; WOW64) AppleWebK...</td>\n",
       "      <td>1528635</td>\n",
       "      <td>2018-10-01</td>\n",
       "      <td>NextSong</td>\n",
       "      <td>1543412707000</td>\n",
       "      <td>Roll Advert</td>\n",
       "      <td>None</td>\n",
       "      <td>1538400348000</td>\n",
       "      <td>1365000</td>\n",
       "      <td>1365000</td>\n",
       "    </tr>\n",
       "    <tr>\n",
       "      <th>8</th>\n",
       "      <td>None</td>\n",
       "      <td>Logged In</td>\n",
       "      <td>Bruce</td>\n",
       "      <td>M</td>\n",
       "      <td>2</td>\n",
       "      <td>Wright</td>\n",
       "      <td>NaN</td>\n",
       "      <td>free</td>\n",
       "      <td>Champaign-Urbana, IL</td>\n",
       "      <td>GET</td>\n",
       "      <td>...</td>\n",
       "      <td>\"Mozilla/5.0 (Macintosh; Intel Mac OS X 10_9_4...</td>\n",
       "      <td>1192388</td>\n",
       "      <td>2018-10-18</td>\n",
       "      <td>Cancellation Confirmation</td>\n",
       "      <td>1543005266000</td>\n",
       "      <td>Cancellation Confirmation</td>\n",
       "      <td>Cancellation Confirmation</td>\n",
       "      <td>1539871112000</td>\n",
       "      <td>0</td>\n",
       "      <td>10923000</td>\n",
       "    </tr>\n",
       "    <tr>\n",
       "      <th>9</th>\n",
       "      <td>La Polla Records</td>\n",
       "      <td>Logged In</td>\n",
       "      <td>Bruce</td>\n",
       "      <td>M</td>\n",
       "      <td>3</td>\n",
       "      <td>Wright</td>\n",
       "      <td>93.93587</td>\n",
       "      <td>free</td>\n",
       "      <td>Champaign-Urbana, IL</td>\n",
       "      <td>PUT</td>\n",
       "      <td>...</td>\n",
       "      <td>\"Mozilla/5.0 (Macintosh; Intel Mac OS X 10_9_4...</td>\n",
       "      <td>1192388</td>\n",
       "      <td>2018-10-18</td>\n",
       "      <td>Home</td>\n",
       "      <td>1543005266000</td>\n",
       "      <td>Cancellation Confirmation</td>\n",
       "      <td>Cancellation Confirmation</td>\n",
       "      <td>1539871112000</td>\n",
       "      <td>2000</td>\n",
       "      <td>10923000</td>\n",
       "    </tr>\n",
       "    <tr>\n",
       "      <th>10</th>\n",
       "      <td>Panic At The Disco</td>\n",
       "      <td>Logged In</td>\n",
       "      <td>Bruce</td>\n",
       "      <td>M</td>\n",
       "      <td>4</td>\n",
       "      <td>Wright</td>\n",
       "      <td>259.29098</td>\n",
       "      <td>free</td>\n",
       "      <td>Champaign-Urbana, IL</td>\n",
       "      <td>PUT</td>\n",
       "      <td>...</td>\n",
       "      <td>\"Mozilla/5.0 (Macintosh; Intel Mac OS X 10_9_4...</td>\n",
       "      <td>1192388</td>\n",
       "      <td>2018-10-18</td>\n",
       "      <td>NextSong</td>\n",
       "      <td>1543005266000</td>\n",
       "      <td>Cancellation Confirmation</td>\n",
       "      <td>Cancellation Confirmation</td>\n",
       "      <td>1539871112000</td>\n",
       "      <td>95000</td>\n",
       "      <td>10923000</td>\n",
       "    </tr>\n",
       "    <tr>\n",
       "      <th>11</th>\n",
       "      <td>My Chemical Romance</td>\n",
       "      <td>Logged In</td>\n",
       "      <td>Bruce</td>\n",
       "      <td>M</td>\n",
       "      <td>5</td>\n",
       "      <td>Wright</td>\n",
       "      <td>231.86240</td>\n",
       "      <td>free</td>\n",
       "      <td>Champaign-Urbana, IL</td>\n",
       "      <td>PUT</td>\n",
       "      <td>...</td>\n",
       "      <td>\"Mozilla/5.0 (Macintosh; Intel Mac OS X 10_9_4...</td>\n",
       "      <td>1192388</td>\n",
       "      <td>2018-10-18</td>\n",
       "      <td>NextSong</td>\n",
       "      <td>1543005266000</td>\n",
       "      <td>Cancellation Confirmation</td>\n",
       "      <td>Cancellation Confirmation</td>\n",
       "      <td>1539871112000</td>\n",
       "      <td>354000</td>\n",
       "      <td>10923000</td>\n",
       "    </tr>\n",
       "    <tr>\n",
       "      <th>12</th>\n",
       "      <td>Octopus Project</td>\n",
       "      <td>Logged In</td>\n",
       "      <td>Bruce</td>\n",
       "      <td>M</td>\n",
       "      <td>6</td>\n",
       "      <td>Wright</td>\n",
       "      <td>313.75628</td>\n",
       "      <td>free</td>\n",
       "      <td>Champaign-Urbana, IL</td>\n",
       "      <td>PUT</td>\n",
       "      <td>...</td>\n",
       "      <td>\"Mozilla/5.0 (Macintosh; Intel Mac OS X 10_9_4...</td>\n",
       "      <td>1192388</td>\n",
       "      <td>2018-10-18</td>\n",
       "      <td>NextSong</td>\n",
       "      <td>1543005266000</td>\n",
       "      <td>Cancellation Confirmation</td>\n",
       "      <td>Cancellation Confirmation</td>\n",
       "      <td>1539871112000</td>\n",
       "      <td>585000</td>\n",
       "      <td>10923000</td>\n",
       "    </tr>\n",
       "    <tr>\n",
       "      <th>13</th>\n",
       "      <td>Bad Religion</td>\n",
       "      <td>Logged In</td>\n",
       "      <td>Bruce</td>\n",
       "      <td>M</td>\n",
       "      <td>7</td>\n",
       "      <td>Wright</td>\n",
       "      <td>203.62404</td>\n",
       "      <td>free</td>\n",
       "      <td>Champaign-Urbana, IL</td>\n",
       "      <td>PUT</td>\n",
       "      <td>...</td>\n",
       "      <td>\"Mozilla/5.0 (Macintosh; Intel Mac OS X 10_9_4...</td>\n",
       "      <td>1192388</td>\n",
       "      <td>2018-10-18</td>\n",
       "      <td>NextSong</td>\n",
       "      <td>1543005266000</td>\n",
       "      <td>Cancellation Confirmation</td>\n",
       "      <td>Cancellation Confirmation</td>\n",
       "      <td>1539871112000</td>\n",
       "      <td>898000</td>\n",
       "      <td>10923000</td>\n",
       "    </tr>\n",
       "    <tr>\n",
       "      <th>14</th>\n",
       "      <td>Pixies</td>\n",
       "      <td>Logged In</td>\n",
       "      <td>Bruce</td>\n",
       "      <td>M</td>\n",
       "      <td>8</td>\n",
       "      <td>Wright</td>\n",
       "      <td>210.99057</td>\n",
       "      <td>free</td>\n",
       "      <td>Champaign-Urbana, IL</td>\n",
       "      <td>PUT</td>\n",
       "      <td>...</td>\n",
       "      <td>\"Mozilla/5.0 (Macintosh; Intel Mac OS X 10_9_4...</td>\n",
       "      <td>1192388</td>\n",
       "      <td>2018-10-18</td>\n",
       "      <td>NextSong</td>\n",
       "      <td>1543005266000</td>\n",
       "      <td>Cancellation Confirmation</td>\n",
       "      <td>Cancellation Confirmation</td>\n",
       "      <td>1539871112000</td>\n",
       "      <td>1101000</td>\n",
       "      <td>10923000</td>\n",
       "    </tr>\n",
       "    <tr>\n",
       "      <th>15</th>\n",
       "      <td>Cradle Of Filth</td>\n",
       "      <td>Logged In</td>\n",
       "      <td>Bruce</td>\n",
       "      <td>M</td>\n",
       "      <td>9</td>\n",
       "      <td>Wright</td>\n",
       "      <td>371.66975</td>\n",
       "      <td>free</td>\n",
       "      <td>Champaign-Urbana, IL</td>\n",
       "      <td>PUT</td>\n",
       "      <td>...</td>\n",
       "      <td>\"Mozilla/5.0 (Macintosh; Intel Mac OS X 10_9_4...</td>\n",
       "      <td>1192388</td>\n",
       "      <td>2018-10-18</td>\n",
       "      <td>NextSong</td>\n",
       "      <td>1543005266000</td>\n",
       "      <td>Cancellation Confirmation</td>\n",
       "      <td>Cancellation Confirmation</td>\n",
       "      <td>1539871112000</td>\n",
       "      <td>1311000</td>\n",
       "      <td>10923000</td>\n",
       "    </tr>\n",
       "    <tr>\n",
       "      <th>16</th>\n",
       "      <td>Guns N' Roses</td>\n",
       "      <td>Logged In</td>\n",
       "      <td>Bruce</td>\n",
       "      <td>M</td>\n",
       "      <td>10</td>\n",
       "      <td>Wright</td>\n",
       "      <td>362.26567</td>\n",
       "      <td>free</td>\n",
       "      <td>Champaign-Urbana, IL</td>\n",
       "      <td>PUT</td>\n",
       "      <td>...</td>\n",
       "      <td>\"Mozilla/5.0 (Macintosh; Intel Mac OS X 10_9_4...</td>\n",
       "      <td>1192388</td>\n",
       "      <td>2018-10-18</td>\n",
       "      <td>NextSong</td>\n",
       "      <td>1543005266000</td>\n",
       "      <td>Cancellation Confirmation</td>\n",
       "      <td>Cancellation Confirmation</td>\n",
       "      <td>1539871112000</td>\n",
       "      <td>1682000</td>\n",
       "      <td>10923000</td>\n",
       "    </tr>\n",
       "    <tr>\n",
       "      <th>17</th>\n",
       "      <td>Nestor Torres</td>\n",
       "      <td>Logged In</td>\n",
       "      <td>Bruce</td>\n",
       "      <td>M</td>\n",
       "      <td>11</td>\n",
       "      <td>Wright</td>\n",
       "      <td>191.63383</td>\n",
       "      <td>free</td>\n",
       "      <td>Champaign-Urbana, IL</td>\n",
       "      <td>PUT</td>\n",
       "      <td>...</td>\n",
       "      <td>\"Mozilla/5.0 (Macintosh; Intel Mac OS X 10_9_4...</td>\n",
       "      <td>1192388</td>\n",
       "      <td>2018-10-18</td>\n",
       "      <td>NextSong</td>\n",
       "      <td>1543005266000</td>\n",
       "      <td>Cancellation Confirmation</td>\n",
       "      <td>Cancellation Confirmation</td>\n",
       "      <td>1539871112000</td>\n",
       "      <td>2044000</td>\n",
       "      <td>10923000</td>\n",
       "    </tr>\n",
       "    <tr>\n",
       "      <th>18</th>\n",
       "      <td>Alan Parsons</td>\n",
       "      <td>Logged In</td>\n",
       "      <td>Bruce</td>\n",
       "      <td>M</td>\n",
       "      <td>12</td>\n",
       "      <td>Wright</td>\n",
       "      <td>311.97995</td>\n",
       "      <td>free</td>\n",
       "      <td>Champaign-Urbana, IL</td>\n",
       "      <td>PUT</td>\n",
       "      <td>...</td>\n",
       "      <td>\"Mozilla/5.0 (Macintosh; Intel Mac OS X 10_9_4...</td>\n",
       "      <td>1192388</td>\n",
       "      <td>2018-10-18</td>\n",
       "      <td>NextSong</td>\n",
       "      <td>1543005266000</td>\n",
       "      <td>Cancellation Confirmation</td>\n",
       "      <td>Cancellation Confirmation</td>\n",
       "      <td>1539871112000</td>\n",
       "      <td>2235000</td>\n",
       "      <td>10923000</td>\n",
       "    </tr>\n",
       "    <tr>\n",
       "      <th>19</th>\n",
       "      <td>Muse</td>\n",
       "      <td>Logged In</td>\n",
       "      <td>Bruce</td>\n",
       "      <td>M</td>\n",
       "      <td>13</td>\n",
       "      <td>Wright</td>\n",
       "      <td>201.50812</td>\n",
       "      <td>free</td>\n",
       "      <td>Champaign-Urbana, IL</td>\n",
       "      <td>PUT</td>\n",
       "      <td>...</td>\n",
       "      <td>\"Mozilla/5.0 (Macintosh; Intel Mac OS X 10_9_4...</td>\n",
       "      <td>1192388</td>\n",
       "      <td>2018-10-18</td>\n",
       "      <td>NextSong</td>\n",
       "      <td>1543005266000</td>\n",
       "      <td>Cancellation Confirmation</td>\n",
       "      <td>Cancellation Confirmation</td>\n",
       "      <td>1539871112000</td>\n",
       "      <td>2546000</td>\n",
       "      <td>10923000</td>\n",
       "    </tr>\n",
       "  </tbody>\n",
       "</table>\n",
       "<p>20 rows × 26 columns</p>\n",
       "</div>"
      ],
      "text/plain": [
       "                 artist       auth firstName gender  itemInSession lastName  \\\n",
       "0                  None  Logged In     Ethan      M              0  Raymond   \n",
       "1                 3OH!3  Logged In     Ethan      M              1  Raymond   \n",
       "2                Eminem  Logged In     Ethan      M              2  Raymond   \n",
       "3        Bebel Gilberto  Logged In     Ethan      M              3  Raymond   \n",
       "4                GHINZU  Logged In     Ethan      M              4  Raymond   \n",
       "5              Flipsyde  Logged In     Ethan      M              5  Raymond   \n",
       "6                   Jin  Logged In     Ethan      M              6  Raymond   \n",
       "7                  None  Logged In     Ethan      M              7  Raymond   \n",
       "8                  None  Logged In     Bruce      M              2   Wright   \n",
       "9      La Polla Records  Logged In     Bruce      M              3   Wright   \n",
       "10   Panic At The Disco  Logged In     Bruce      M              4   Wright   \n",
       "11  My Chemical Romance  Logged In     Bruce      M              5   Wright   \n",
       "12      Octopus Project  Logged In     Bruce      M              6   Wright   \n",
       "13         Bad Religion  Logged In     Bruce      M              7   Wright   \n",
       "14               Pixies  Logged In     Bruce      M              8   Wright   \n",
       "15      Cradle Of Filth  Logged In     Bruce      M              9   Wright   \n",
       "16        Guns N' Roses  Logged In     Bruce      M             10   Wright   \n",
       "17        Nestor Torres  Logged In     Bruce      M             11   Wright   \n",
       "18         Alan Parsons  Logged In     Bruce      M             12   Wright   \n",
       "19                 Muse  Logged In     Bruce      M             13   Wright   \n",
       "\n",
       "       length level                                  location method  ...  \\\n",
       "0         NaN  free  Hartford-West Hartford-East Hartford, CT    GET  ...   \n",
       "1   196.28363  free  Hartford-West Hartford-East Hartford, CT    PUT  ...   \n",
       "2   251.55873  free  Hartford-West Hartford-East Hartford, CT    PUT  ...   \n",
       "3   389.58975  free  Hartford-West Hartford-East Hartford, CT    PUT  ...   \n",
       "4   209.44934  free  Hartford-West Hartford-East Hartford, CT    PUT  ...   \n",
       "5   236.56444  free  Hartford-West Hartford-East Hartford, CT    PUT  ...   \n",
       "6   117.36771  free  Hartford-West Hartford-East Hartford, CT    PUT  ...   \n",
       "7         NaN  free  Hartford-West Hartford-East Hartford, CT    GET  ...   \n",
       "8         NaN  free                      Champaign-Urbana, IL    GET  ...   \n",
       "9    93.93587  free                      Champaign-Urbana, IL    PUT  ...   \n",
       "10  259.29098  free                      Champaign-Urbana, IL    PUT  ...   \n",
       "11  231.86240  free                      Champaign-Urbana, IL    PUT  ...   \n",
       "12  313.75628  free                      Champaign-Urbana, IL    PUT  ...   \n",
       "13  203.62404  free                      Champaign-Urbana, IL    PUT  ...   \n",
       "14  210.99057  free                      Champaign-Urbana, IL    PUT  ...   \n",
       "15  371.66975  free                      Champaign-Urbana, IL    PUT  ...   \n",
       "16  362.26567  free                      Champaign-Urbana, IL    PUT  ...   \n",
       "17  191.63383  free                      Champaign-Urbana, IL    PUT  ...   \n",
       "18  311.97995  free                      Champaign-Urbana, IL    PUT  ...   \n",
       "19  201.50812  free                      Champaign-Urbana, IL    PUT  ...   \n",
       "\n",
       "                                            userAgent   userId        date  \\\n",
       "0   \"Mozilla/5.0 (Windows NT 6.3; WOW64) AppleWebK...  1528635  2018-10-01   \n",
       "1   \"Mozilla/5.0 (Windows NT 6.3; WOW64) AppleWebK...  1528635  2018-10-01   \n",
       "2   \"Mozilla/5.0 (Windows NT 6.3; WOW64) AppleWebK...  1528635  2018-10-01   \n",
       "3   \"Mozilla/5.0 (Windows NT 6.3; WOW64) AppleWebK...  1528635  2018-10-01   \n",
       "4   \"Mozilla/5.0 (Windows NT 6.3; WOW64) AppleWebK...  1528635  2018-10-01   \n",
       "5   \"Mozilla/5.0 (Windows NT 6.3; WOW64) AppleWebK...  1528635  2018-10-01   \n",
       "6   \"Mozilla/5.0 (Windows NT 6.3; WOW64) AppleWebK...  1528635  2018-10-01   \n",
       "7   \"Mozilla/5.0 (Windows NT 6.3; WOW64) AppleWebK...  1528635  2018-10-01   \n",
       "8   \"Mozilla/5.0 (Macintosh; Intel Mac OS X 10_9_4...  1192388  2018-10-18   \n",
       "9   \"Mozilla/5.0 (Macintosh; Intel Mac OS X 10_9_4...  1192388  2018-10-18   \n",
       "10  \"Mozilla/5.0 (Macintosh; Intel Mac OS X 10_9_4...  1192388  2018-10-18   \n",
       "11  \"Mozilla/5.0 (Macintosh; Intel Mac OS X 10_9_4...  1192388  2018-10-18   \n",
       "12  \"Mozilla/5.0 (Macintosh; Intel Mac OS X 10_9_4...  1192388  2018-10-18   \n",
       "13  \"Mozilla/5.0 (Macintosh; Intel Mac OS X 10_9_4...  1192388  2018-10-18   \n",
       "14  \"Mozilla/5.0 (Macintosh; Intel Mac OS X 10_9_4...  1192388  2018-10-18   \n",
       "15  \"Mozilla/5.0 (Macintosh; Intel Mac OS X 10_9_4...  1192388  2018-10-18   \n",
       "16  \"Mozilla/5.0 (Macintosh; Intel Mac OS X 10_9_4...  1192388  2018-10-18   \n",
       "17  \"Mozilla/5.0 (Macintosh; Intel Mac OS X 10_9_4...  1192388  2018-10-18   \n",
       "18  \"Mozilla/5.0 (Macintosh; Intel Mac OS X 10_9_4...  1192388  2018-10-18   \n",
       "19  \"Mozilla/5.0 (Macintosh; Intel Mac OS X 10_9_4...  1192388  2018-10-18   \n",
       "\n",
       "                previous_page  last_event_ts                  last_page  \\\n",
       "0                        None  1543412707000                Roll Advert   \n",
       "1                        Home  1543412707000                Roll Advert   \n",
       "2                    NextSong  1543412707000                Roll Advert   \n",
       "3                    NextSong  1543412707000                Roll Advert   \n",
       "4                    NextSong  1543412707000                Roll Advert   \n",
       "5                    NextSong  1543412707000                Roll Advert   \n",
       "6                    NextSong  1543412707000                Roll Advert   \n",
       "7                    NextSong  1543412707000                Roll Advert   \n",
       "8   Cancellation Confirmation  1543005266000  Cancellation Confirmation   \n",
       "9                        Home  1543005266000  Cancellation Confirmation   \n",
       "10                   NextSong  1543005266000  Cancellation Confirmation   \n",
       "11                   NextSong  1543005266000  Cancellation Confirmation   \n",
       "12                   NextSong  1543005266000  Cancellation Confirmation   \n",
       "13                   NextSong  1543005266000  Cancellation Confirmation   \n",
       "14                   NextSong  1543005266000  Cancellation Confirmation   \n",
       "15                   NextSong  1543005266000  Cancellation Confirmation   \n",
       "16                   NextSong  1543005266000  Cancellation Confirmation   \n",
       "17                   NextSong  1543005266000  Cancellation Confirmation   \n",
       "18                   NextSong  1543005266000  Cancellation Confirmation   \n",
       "19                   NextSong  1543005266000  Cancellation Confirmation   \n",
       "\n",
       "                register_page       first_ts ts_elapsed session_duration  \n",
       "0                        None  1538400348000          0          1365000  \n",
       "1                        None  1538400348000      32000          1365000  \n",
       "2                        None  1538400348000     228000          1365000  \n",
       "3                        None  1538400348000     479000          1365000  \n",
       "4                        None  1538400348000     868000          1365000  \n",
       "5                        None  1538400348000    1077000          1365000  \n",
       "6                        None  1538400348000    1313000          1365000  \n",
       "7                        None  1538400348000    1365000          1365000  \n",
       "8   Cancellation Confirmation  1539871112000          0         10923000  \n",
       "9   Cancellation Confirmation  1539871112000       2000         10923000  \n",
       "10  Cancellation Confirmation  1539871112000      95000         10923000  \n",
       "11  Cancellation Confirmation  1539871112000     354000         10923000  \n",
       "12  Cancellation Confirmation  1539871112000     585000         10923000  \n",
       "13  Cancellation Confirmation  1539871112000     898000         10923000  \n",
       "14  Cancellation Confirmation  1539871112000    1101000         10923000  \n",
       "15  Cancellation Confirmation  1539871112000    1311000         10923000  \n",
       "16  Cancellation Confirmation  1539871112000    1682000         10923000  \n",
       "17  Cancellation Confirmation  1539871112000    2044000         10923000  \n",
       "18  Cancellation Confirmation  1539871112000    2235000         10923000  \n",
       "19  Cancellation Confirmation  1539871112000    2546000         10923000  \n",
       "\n",
       "[20 rows x 26 columns]"
      ]
     },
     "execution_count": 23,
     "metadata": {},
     "output_type": "execute_result"
    }
   ],
   "source": [
    "df.limit(20).toPandas()"
   ]
  },
  {
   "cell_type": "markdown",
   "id": "be1ab48c",
   "metadata": {},
   "source": [
    "# Exploratory Data Analysis"
   ]
  },
  {
   "cell_type": "markdown",
   "id": "ac5076d4",
   "metadata": {},
   "source": [
    "#### When you're working with the full dataset, perform EDA by loading a small subset of the data and doing basic manipulations within Spark. In this workspace, you are already provided a small subset of data you can explore."
   ]
  },
  {
   "cell_type": "markdown",
   "id": "dc9600a6",
   "metadata": {},
   "source": [
    "### Define Churn"
   ]
  },
  {
   "cell_type": "markdown",
   "id": "29b74001",
   "metadata": {},
   "source": [
    "#### Once you've done some preliminary analysis, create a column Churn to use as the label for your model. I suggest using the Cancellation Confirmation events to define your churn, which happen for both paid and free users. As a bonus task, you can also look into the Downgrade events."
   ]
  },
  {
   "cell_type": "markdown",
   "id": "b3b6197b",
   "metadata": {},
   "source": [
    "### Explore Data"
   ]
  },
  {
   "cell_type": "markdown",
   "id": "aa68d09e",
   "metadata": {},
   "source": [
    "#### Once you've defined churn, perform some exploratory data analysis to observe the behavior for users who stayed vs users who churned. You can start by exploring aggregates on these two groups of users, observing how much of a specific action they experienced per a certain time unit or number of songs played."
   ]
  },
  {
   "cell_type": "code",
   "execution_count": 24,
   "id": "b36ccb4b",
   "metadata": {},
   "outputs": [
    {
     "name": "stderr",
     "output_type": "stream",
     "text": [
      "\r",
      "[Stage 23:=====================================>                  (64 + 8) / 96]\r"
     ]
    },
    {
     "name": "stdout",
     "output_type": "stream",
     "text": [
      "+--------------------+--------+\n",
      "|                page|   count|\n",
      "+--------------------+--------+\n",
      "|            NextSong|20850272|\n",
      "|           Thumbs Up| 1151465|\n",
      "|                Home|  933124|\n",
      "|     Add to Playlist|  597921|\n",
      "|         Roll Advert|  385212|\n",
      "|          Add Friend|  381664|\n",
      "|              Logout|  296005|\n",
      "|         Thumbs Down|  239212|\n",
      "|           Downgrade|  184240|\n",
      "|            Settings|  147074|\n",
      "|                Help|  129448|\n",
      "|             Upgrade|   50507|\n",
      "|               About|   48377|\n",
      "|       Save Settings|   29516|\n",
      "|               Error|   25048|\n",
      "|      Submit Upgrade|   15135|\n",
      "|    Submit Downgrade|    6494|\n",
      "|              Cancel|    5003|\n",
      "|Cancellation Conf...|    5003|\n",
      "+--------------------+--------+\n",
      "\n"
     ]
    },
    {
     "name": "stderr",
     "output_type": "stream",
     "text": [
      "\r",
      "                                                                                \r"
     ]
    }
   ],
   "source": [
    "df.groupBy('page').count().orderBy('count', ascending = False).show(50)"
   ]
  },
  {
   "cell_type": "markdown",
   "id": "89d6f882",
   "metadata": {},
   "source": [
    "#### Some questions about the data:\n",
    "Are errors related to downgrading canceling the service?\n",
    "Having a certain number of friends or a sense of community can decrease the churn?\n",
    "Thumbs down are related to churn? (could the quality of the songs catalog affect the churn)\n",
    "The advertising is not annoying the users?\n",
    "Users with stay connected for more time have less change to churn?\n",
    "Is the home page relevant?\n",
    "Users who access the downgrade page are how much more willing to churn?"
   ]
  },
  {
   "cell_type": "code",
   "execution_count": 25,
   "id": "0b72483b",
   "metadata": {},
   "outputs": [
    {
     "name": "stdout",
     "output_type": "stream",
     "text": [
      "+------+--------+\n",
      "|status|   count|\n",
      "+------+--------+\n",
      "|   200|23331178|\n",
      "|   307| 2124494|\n",
      "|   404|   25048|\n",
      "+------+--------+\n",
      "\n"
     ]
    },
    {
     "name": "stderr",
     "output_type": "stream",
     "text": [
      "\r",
      "[Stage 26:=========================================>              (71 + 8) / 96]\r",
      "\r",
      "                                                                                \r"
     ]
    }
   ],
   "source": [
    "df.groupBy('status').count().orderBy('count', ascending = False).show(20)"
   ]
  },
  {
   "cell_type": "markdown",
   "id": "6d5ea7ca",
   "metadata": {},
   "source": [
    "# Feature Engineering"
   ]
  },
  {
   "cell_type": "markdown",
   "id": "e07311e9",
   "metadata": {},
   "source": [
    "## User Session (Count of each oage visit as feature set for new data)\n"
   ]
  },
  {
   "cell_type": "code",
   "execution_count": 26,
   "id": "8a5324d3",
   "metadata": {},
   "outputs": [],
   "source": [
    "df_sessions = df.orderBy(df.sessionId).groupBy('sessionId', 'userId').agg(\n",
    "        smax(df.ts).alias('max_event_ts'),\n",
    "        smin(df.ts).alias('min_event_ts'),\n",
    "        ssum(df.length).alias('session_n_total_playback'), # Based on songs length\n",
    "        count(when(df.page == 'Thumbs Up', True)).alias(\"session_n_likes\"),\n",
    "        count(when(df.page == 'Thumbs Down', True)).alias(\"session_n_dislikes\"),\n",
    "        count(when(df.page == 'NextSong', True)).alias(\"session_n_songs\"),\n",
    "        count(when(df.page == 'Add Friend', True)).alias(\"session_n_friends\"),\n",
    "        count(when(df.page == 'Add to Playlist', True)).alias(\"session_n_add_playlist\"),\n",
    "        count(when(df.page == 'Home', True)).alias(\"session_n_home\"),\n",
    "        count(when(df.page == 'Roll Advert', True)).alias(\"session_n_ads\"),\n",
    "        count(when(df.page == 'Help', True)).alias(\"session_n_help\"),\n",
    "        count(when(df.page == 'Error', True)).alias(\"session_n_error\"),\n",
    "        count(when(df.page == 'Settings', True)).alias(\"session_n_sets\"),\n",
    "        count(col('page')).alias('session_n_actions'),\n",
    "        first(col('session_duration')).alias('session_duration')\n",
    "    ) "
   ]
  },
  {
   "cell_type": "markdown",
   "id": "deec0c74",
   "metadata": {},
   "source": [
    "### Interval until next session  (Adding the interval between sessions as an feature )"
   ]
  },
  {
   "cell_type": "code",
   "execution_count": 27,
   "id": "65168918",
   "metadata": {},
   "outputs": [],
   "source": [
    "w_user_sessions_interval = Window.partitionBy('userId').orderBy('min_event_ts')\n",
    "df_sessions = df_sessions.withColumn('interval_to_session', col('min_event_ts') - lag(col('max_event_ts')).over(w_user_sessions_interval))"
   ]
  },
  {
   "cell_type": "markdown",
   "id": "e7e4765e",
   "metadata": {},
   "source": [
    "### Average time in hours for each session"
   ]
  },
  {
   "cell_type": "code",
   "execution_count": 28,
   "id": "747d2b17",
   "metadata": {},
   "outputs": [],
   "source": [
    "milliseconds_to_hours = 3600 * 1000\n",
    "minutes_to_hours = 60 * 60\n",
    "TRUE = 1\n",
    "FALSE = 0"
   ]
  },
  {
   "cell_type": "markdown",
   "id": "281d9df9",
   "metadata": {},
   "source": [
    "### Adding the average playback time as a feature to check how users have played songs per session "
   ]
  },
  {
   "cell_type": "code",
   "execution_count": 29,
   "id": "0a41a6f2",
   "metadata": {},
   "outputs": [],
   "source": [
    "df_session_time = df_sessions.groupBy('userId').agg(\n",
    "(avg(df_sessions.session_n_total_playback) / minutes_to_hours).alias('avg_playback_time'))\n",
    "\n",
    "df_sessions = df_sessions.join(df_session_time, on = 'userId')"
   ]
  },
  {
   "cell_type": "markdown",
   "id": "80462d25",
   "metadata": {},
   "source": [
    "### Removing null lines before count/group"
   ]
  },
  {
   "cell_type": "code",
   "execution_count": 30,
   "id": "5d72eb21",
   "metadata": {},
   "outputs": [],
   "source": [
    " df_sessions = df_sessions.groupBy('userId').agg(  \n",
    "        (((smax(col('max_event_ts')) - smin(col('min_event_ts'))) / milliseconds_to_hours) / (ssum(df_sessions.session_n_total_playback) / minutes_to_hours) ).alias('time_window_over_playback_time'),\n",
    "        (first(col('avg_playback_time'))).alias('avg_playback_time'),\n",
    "        (avg(df_sessions.interval_to_session) / milliseconds_to_hours).alias('session_avg_time_away'),\n",
    "        (avg(df_sessions.session_n_likes) / first(col('avg_playback_time'))).alias('session_avg_likes'),\n",
    "        (avg(df_sessions.session_n_dislikes) / first(col('avg_playback_time'))).alias('session_avg_dislikes'),\n",
    "        (avg(df_sessions.session_n_songs) / first(col('avg_playback_time'))).alias('session_avg_songs'),\n",
    "        (avg(df_sessions.session_n_friends) / first(col('avg_playback_time'))).alias('session_avg_friends'),\n",
    "        (avg(df_sessions.session_n_add_playlist) / first(col('avg_playback_time'))).alias('session_avg_added_playlist'),\n",
    "        (avg(df_sessions.session_n_home) / first(col('avg_playback_time'))).alias('session_avg_home'),\n",
    "        (avg(df_sessions.session_n_ads) / first(col('avg_playback_time'))).alias('session_avg_ads'),\n",
    "        (avg(df_sessions.session_n_help) / first(col('avg_playback_time'))).alias('session_avg_help'),\n",
    "        (avg(df_sessions.session_n_error) / first(col('avg_playback_time'))).alias('session_avg_errors'),\n",
    "        (avg(df_sessions.session_n_sets) / first(col('avg_playback_time'))).alias('session_avg_settings'),\n",
    "        (avg(df_sessions.session_n_actions) / first(col('avg_playback_time'))).alias('session_avg_actions')\n",
    "    )"
   ]
  },
  {
   "cell_type": "markdown",
   "id": "7614c372",
   "metadata": {},
   "source": [
    "## User Profile"
   ]
  },
  {
   "cell_type": "markdown",
   "id": "760f5696",
   "metadata": {},
   "source": [
    "### Creating user dimension features for subscription, streaming, community and page visit counts based on user interaction."
   ]
  },
  {
   "cell_type": "code",
   "execution_count": 31,
   "id": "16f9b684",
   "metadata": {},
   "outputs": [],
   "source": [
    "CHURN_CANCELLATION_PAGE = 'Cancellation Confirmation'\n",
    "REGISTRATION_PAGE = 'Submit Registration'"
   ]
  },
  {
   "cell_type": "markdown",
   "id": "e22020fc",
   "metadata": {},
   "source": [
    "### Now, we are adding the features based on each users as (Subscription)\n",
    "a.) No of downgrades \n",
    "\n",
    "b.) No of upgrades \n",
    "\n",
    "c.) Paid User \n",
    "\n",
    "d.) User Cancelled"
   ]
  },
  {
   "cell_type": "markdown",
   "id": "508d93f6",
   "metadata": {},
   "source": [
    "# Streaming \n",
    "\n",
    "a.) Next Song \n",
    "\n",
    "b.) Likes on each song \n",
    "\n",
    "c.) Dislikes on each song "
   ]
  },
  {
   "cell_type": "markdown",
   "id": "f5837adc",
   "metadata": {},
   "source": [
    "### Community \n",
    "a.) Add Friend\n",
    "\n",
    "b.) Add to playlist \n",
    "   "
   ]
  },
  {
   "cell_type": "code",
   "execution_count": 32,
   "id": "a1f8e30f",
   "metadata": {},
   "outputs": [],
   "source": [
    "df_user_profile = df.groupby('userId')\\\n",
    "        .agg(first(when(col('gender') == 'M', TRUE).otherwise(FALSE)).alias('male'),\n",
    "\n",
    "            smin(col('first_ts')).alias('ts_start'),\n",
    "            smax(col('last_event_ts')).alias('ts_end'),        \n",
    "        \n",
    "            ((smax(col('last_event_ts')) - smin(col('first_ts'))) / milliseconds_to_hours).alias('time_window'),\n",
    "        \n",
    "            # Subscription\n",
    "            count(when(col('page') == 'Submit Downgrade', True)).alias('n_downgrades'),\n",
    "            count(when(col('page') == 'Submit Upgrade', True)).alias('n_upgrades'),\n",
    "            last(when(col('level') == 'paid', TRUE).otherwise(FALSE)).alias('paid'),\n",
    "            first(when(col('last_page') == CHURN_CANCELLATION_PAGE, TRUE).otherwise(FALSE)).alias('canceled'),\n",
    "\n",
    "            # Streaming\n",
    "            count(when(col('page') == 'NextSong', True)).alias('n_songs'),\n",
    "            count(when(col('page') == 'Thumbs Up', True)).alias('n_likes'),\n",
    "            count(when(col('page') == 'Thumbs Down', True)).alias('n_dislikes'),\n",
    "\n",
    "            (count(when(col('page') == 'NextSong', True))/count(when(col('page') == 'Roll Advert', True))).alias('n_ads_over_songs'),\n",
    "            (count(when(col('page') == 'NextSong', True))/count(when(col('page') == 'Thumbs Up', True))).alias('n_likes_over_songs'),\n",
    "            (count(when(col('page') == 'NextSong', True))/count(when(col('page') == 'Thumbs Down', True))).alias('n_dislikes_over_songs'),\n",
    "            (count(when(col('page') == 'Thumbs Up', True))/count(when(col('page') == 'Thumbs Down', True))).alias('n_likes_over_dislikes'),\n",
    "\n",
    "            countDistinct(col('sessionId')).alias('n_sess'),\n",
    "            (avg(col('session_duration')) / milliseconds_to_hours).alias('avg_session_duration'),\n",
    "\n",
    "            # Community\n",
    "            count(when(col('page') == 'Add Friend', True)).alias('n_friends'),\n",
    "            count(when(col('page') == ' ', True)).alias('n_added_to_playlist'),\n",
    "\n",
    "            # Other\n",
    "            count(when(col('page') == 'Home', True)).alias('n_home'),\n",
    "            count(when(col('page') == 'Roll Advert', True)).alias('n_ads'),\n",
    "            count(when(col('page') == 'Help', True)).alias('n_help'),\n",
    "            count(when(col('page') == 'Error', True)).alias('n_errors'),\n",
    "            count(when(col('page') == 'Settings', True)).alias('n_settings'),\n",
    "            count(col('page')).alias('n_actions')\n",
    "        )"
   ]
  },
  {
   "cell_type": "markdown",
   "id": "ea91507c",
   "metadata": {},
   "source": [
    "### User Dimension (Daily Data) - Adding daily "
   ]
  },
  {
   "cell_type": "code",
   "execution_count": 33,
   "id": "468cb771",
   "metadata": {},
   "outputs": [],
   "source": [
    "df_unique_days = df.groupby('userId').agg(countDistinct('date').alias('n_days'))\n",
    "df_daily_actions = df.groupby('userId', 'date').agg(count('page').alias('total'))\n",
    "df_daily_actions = df_daily_actions.groupby('userId').agg(avg('total').alias('avg_daily_actions')) \n",
    "df_days = df_unique_days.join(df_daily_actions, df_unique_days.userId == df_daily_actions.userId)\n",
    "df_days = df_days.drop(df_daily_actions.userId)"
   ]
  },
  {
   "cell_type": "code",
   "execution_count": 34,
   "id": "ca808340",
   "metadata": {},
   "outputs": [],
   "source": [
    "df_users = df_user_profile.orderBy(df_user_profile.userId).join(df_days, on = 'userId')"
   ]
  },
  {
   "cell_type": "markdown",
   "id": "aa9720d0",
   "metadata": {},
   "source": [
    "### Sort Features"
   ]
  },
  {
   "cell_type": "code",
   "execution_count": 35,
   "id": "9c96a8e7",
   "metadata": {},
   "outputs": [],
   "source": [
    "def sort_features(df, columns_order):\n",
    "    _columns = df.columns\n",
    "    _columns.sort()\n",
    "    \n",
    "    for _idx, _val in list(enumerate(columns_order)):\n",
    "        _columns.pop(_columns.index(_val))\n",
    "        _columns.insert(_idx, _val)\n",
    "        \n",
    "    assert len(_columns) == len(df.columns)\n",
    "\n",
    "    return _columns\n"
   ]
  },
  {
   "cell_type": "code",
   "execution_count": 36,
   "id": "3b29c62e",
   "metadata": {},
   "outputs": [],
   "source": [
    "_columns = sort_features(df_users, [ 'userId', 'male', 'paid', 'canceled'])\n",
    "_columns = list(set(df_users.schema.names + df_sessions.schema.names) - set(['ts_start', 'ts_end', 'state']))\n",
    "df_users = df_users.orderBy(df_users.userId).join(df_sessions, on = 'userId').select(_columns) "
   ]
  },
  {
   "cell_type": "code",
   "execution_count": 37,
   "id": "df6473fc",
   "metadata": {},
   "outputs": [],
   "source": [
    "# Create the new dataframe\n",
    "df_users = df_users.select(df_users.columns).fillna(0)"
   ]
  },
  {
   "cell_type": "code",
   "execution_count": 38,
   "id": "c0134d61",
   "metadata": {},
   "outputs": [
    {
     "name": "stdout",
     "output_type": "stream",
     "text": [
      "root\n",
      " |-- n_likes_over_dislikes: double (nullable = false)\n",
      " |-- n_dislikes: long (nullable = false)\n",
      " |-- session_avg_settings: double (nullable = false)\n",
      " |-- n_likes_over_songs: double (nullable = false)\n",
      " |-- n_help: long (nullable = false)\n",
      " |-- userId: string (nullable = true)\n",
      " |-- avg_playback_time: double (nullable = false)\n",
      " |-- n_actions: long (nullable = false)\n",
      " |-- session_avg_help: double (nullable = false)\n",
      " |-- n_settings: long (nullable = false)\n",
      " |-- n_ads_over_songs: double (nullable = false)\n",
      " |-- n_sess: long (nullable = false)\n",
      " |-- avg_session_duration: double (nullable = false)\n",
      " |-- session_avg_home: double (nullable = false)\n",
      " |-- n_downgrades: long (nullable = false)\n",
      " |-- canceled: integer (nullable = true)\n",
      " |-- session_avg_likes: double (nullable = false)\n",
      " |-- n_likes: long (nullable = false)\n",
      " |-- session_avg_dislikes: double (nullable = false)\n",
      " |-- n_songs: long (nullable = false)\n",
      " |-- n_upgrades: long (nullable = false)\n",
      " |-- n_ads: long (nullable = false)\n",
      " |-- n_days: long (nullable = false)\n",
      " |-- time_window: double (nullable = false)\n",
      " |-- n_added_to_playlist: long (nullable = false)\n",
      " |-- session_avg_friends: double (nullable = false)\n",
      " |-- n_friends: long (nullable = false)\n",
      " |-- n_dislikes_over_songs: double (nullable = false)\n",
      " |-- avg_daily_actions: double (nullable = false)\n",
      " |-- paid: integer (nullable = true)\n",
      " |-- session_avg_time_away: double (nullable = false)\n",
      " |-- session_avg_ads: double (nullable = false)\n",
      " |-- session_avg_errors: double (nullable = false)\n",
      " |-- session_avg_actions: double (nullable = false)\n",
      " |-- n_home: long (nullable = false)\n",
      " |-- session_avg_added_playlist: double (nullable = false)\n",
      " |-- n_errors: long (nullable = false)\n",
      " |-- time_window_over_playback_time: double (nullable = false)\n",
      " |-- male: integer (nullable = true)\n",
      " |-- session_avg_songs: double (nullable = false)\n",
      "\n"
     ]
    }
   ],
   "source": [
    "df_users.printSchema()"
   ]
  },
  {
   "cell_type": "code",
   "execution_count": 39,
   "id": "12e5917f",
   "metadata": {},
   "outputs": [
    {
     "data": {
      "text/plain": [
       "DataFrame[n_likes_over_dislikes: double, n_dislikes: bigint, session_avg_settings: double, n_likes_over_songs: double, n_help: bigint, userId: string, avg_playback_time: double, n_actions: bigint, session_avg_help: double, n_settings: bigint, n_ads_over_songs: double, n_sess: bigint, avg_session_duration: double, session_avg_home: double, n_downgrades: bigint, canceled: int, session_avg_likes: double, n_likes: bigint, session_avg_dislikes: double, n_songs: bigint, n_upgrades: bigint, n_ads: bigint, n_days: bigint, time_window: double, n_added_to_playlist: bigint, session_avg_friends: double, n_friends: bigint, n_dislikes_over_songs: double, avg_daily_actions: double, paid: int, session_avg_time_away: double, session_avg_ads: double, session_avg_errors: double, session_avg_actions: double, n_home: bigint, session_avg_added_playlist: double, n_errors: bigint, time_window_over_playback_time: double, male: int, session_avg_songs: double]"
      ]
     },
     "execution_count": 39,
     "metadata": {},
     "output_type": "execute_result"
    }
   ],
   "source": [
    "df_users.cache()"
   ]
  },
  {
   "cell_type": "code",
   "execution_count": 40,
   "id": "260bc196",
   "metadata": {},
   "outputs": [],
   "source": [
    "from pyspark.sql.window import Window\n",
    "\n",
    "import sys\n",
    "\n",
    "_columns_to_check_outliers = [ \n",
    "    'avg_daily_actions', \n",
    "    'avg_session_duration',\n",
    "    'avg_playback_time', \n",
    "    'session_avg_actions', \n",
    "    'session_avg_added_playlist', \n",
    "    'session_avg_ads', \n",
    "    'session_avg_dislikes', \n",
    "    'session_avg_errors', \n",
    "    'session_avg_friends', \n",
    "    'session_avg_help', \n",
    "    'session_avg_home', \n",
    "    'session_avg_likes', \n",
    "    'session_avg_settings', \n",
    "    'session_avg_songs', \n",
    "    'session_avg_time_away', \n",
    "    'time_window',\n",
    "    'time_window_over_playback_time'\n",
    "]\n",
    "\n",
    "w = Window().partitionBy()\n",
    "\n",
    "def z_score(col, w):\n",
    "    _avg_ = avg(col).over(w)\n",
    "    avg_sq = avg(spow(col, 2)).over(w)\n",
    "    sd_ = sqrt(avg_sq - spow(_avg_, 2))\n",
    "    return sabs((col - _avg_) / sd_)\n",
    "\n",
    "for c in _columns_to_check_outliers:\n",
    "    df_users = df_users.withColumn(f'zscore_{c}', z_score(col(c), w))\n",
    "    \n",
    "\n",
    "zscore_columns = []\n",
    "\n",
    "for c in _columns_to_check_outliers:\n",
    "    zscore_columns.append(f'zscore_{c}')\n",
    "    \n",
    "_query = ''\n",
    "_threshold = 3\n",
    "\n",
    "for c in zscore_columns:\n",
    "    _begin = ' and ' if len(_query) > 0 else ''\n",
    "    _query += f'{_begin}{c} < {_threshold}'"
   ]
  },
  {
   "cell_type": "code",
   "execution_count": 41,
   "id": "35757a27",
   "metadata": {},
   "outputs": [
    {
     "name": "stderr",
     "output_type": "stream",
     "text": [
      "                                                                                \r"
     ]
    },
    {
     "name": "stdout",
     "output_type": "stream",
     "text": [
      "Before: 22277\n",
      "After: 19868\n"
     ]
    }
   ],
   "source": [
    "print(f'Before: {df_users.count()}')\n",
    "df_users = df_users.filter(_query)\n",
    "print(f'After: {df_users.count()}')"
   ]
  },
  {
   "cell_type": "code",
   "execution_count": 42,
   "id": "aa8c991d",
   "metadata": {},
   "outputs": [
    {
     "data": {
      "text/plain": [
       "DataFrame[n_likes_over_dislikes: double, n_dislikes: bigint, session_avg_settings: double, n_likes_over_songs: double, n_help: bigint, userId: string, avg_playback_time: double, n_actions: bigint, session_avg_help: double, n_settings: bigint, n_ads_over_songs: double, n_sess: bigint, avg_session_duration: double, session_avg_home: double, n_downgrades: bigint, canceled: int, session_avg_likes: double, n_likes: bigint, session_avg_dislikes: double, n_songs: bigint, n_upgrades: bigint, n_ads: bigint, n_days: bigint, time_window: double, n_added_to_playlist: bigint, session_avg_friends: double, n_friends: bigint, n_dislikes_over_songs: double, avg_daily_actions: double, paid: int, session_avg_time_away: double, session_avg_ads: double, session_avg_errors: double, session_avg_actions: double, n_home: bigint, session_avg_added_playlist: double, n_errors: bigint, time_window_over_playback_time: double, male: int, session_avg_songs: double, zscore_avg_daily_actions: double, zscore_avg_session_duration: double, zscore_avg_playback_time: double, zscore_session_avg_actions: double, zscore_session_avg_added_playlist: double, zscore_session_avg_ads: double, zscore_session_avg_dislikes: double, zscore_session_avg_errors: double, zscore_session_avg_friends: double, zscore_session_avg_help: double, zscore_session_avg_home: double, zscore_session_avg_likes: double, zscore_session_avg_settings: double, zscore_session_avg_songs: double, zscore_session_avg_time_away: double, zscore_time_window: double, zscore_time_window_over_playback_time: double]"
      ]
     },
     "execution_count": 42,
     "metadata": {},
     "output_type": "execute_result"
    }
   ],
   "source": [
    "df_users.cache()"
   ]
  },
  {
   "cell_type": "markdown",
   "id": "c1a8659a",
   "metadata": {},
   "source": [
    "# No of users cancelled vs the number of users who stayed"
   ]
  },
  {
   "cell_type": "code",
   "execution_count": 43,
   "id": "1fe56d82",
   "metadata": {},
   "outputs": [
    {
     "name": "stderr",
     "output_type": "stream",
     "text": [
      "\r",
      "[Stage 93:>                                                         (0 + 1) / 1]\r"
     ]
    },
    {
     "name": "stdout",
     "output_type": "stream",
     "text": [
      "+--------+-----+\n",
      "|canceled|total|\n",
      "+--------+-----+\n",
      "|       1| 4397|\n",
      "|       0|15471|\n",
      "+--------+-----+\n",
      "\n"
     ]
    },
    {
     "name": "stderr",
     "output_type": "stream",
     "text": [
      "\r",
      "                                                                                \r"
     ]
    }
   ],
   "source": [
    "df_users.groupby(df_users.canceled).agg(count(df_users.canceled).alias('total')).show()"
   ]
  },
  {
   "cell_type": "markdown",
   "id": "edb0bf66",
   "metadata": {},
   "source": [
    "### Feature Score (How each feature has an effect on churn rate prediction ) - Plot analysis "
   ]
  },
  {
   "cell_type": "code",
   "execution_count": 44,
   "id": "fd0d7686",
   "metadata": {},
   "outputs": [],
   "source": [
    "df_dataset = df_users.toPandas()"
   ]
  },
  {
   "cell_type": "code",
   "execution_count": 45,
   "id": "a87e7726",
   "metadata": {},
   "outputs": [],
   "source": [
    "import pandas as pd\n",
    "import matplotlib.pyplot as plt\n",
    "\n",
    "columns_mean = [\n",
    "    'male',\n",
    "    'paid',\n",
    "    'avg_daily_actions',\n",
    "    'avg_session_duration',\n",
    "    'avg_playback_time',\n",
    "    'n_actions',\n",
    "    'n_added_to_playlist',\n",
    "    'n_ads',\n",
    "    'n_days',\n",
    "    'n_dislikes',\n",
    "    'n_downgrades',\n",
    "    'n_errors',\n",
    "    'n_friends',\n",
    "    'n_help',\n",
    "    'n_home',\n",
    "    'n_likes',\n",
    "    'n_sess',\n",
    "    'n_settings',\n",
    "    'n_songs',\n",
    "    'n_upgrades',\n",
    "    'n_ads_over_songs',\n",
    "    'n_likes_over_songs',\n",
    "    'n_dislikes_over_songs',\n",
    "    'n_likes_over_dislikes',\n",
    "    'session_avg_actions',\n",
    "    'session_avg_added_playlist',\n",
    "    'session_avg_ads',\n",
    "    'session_avg_dislikes',\n",
    "    'session_avg_errors',\n",
    "    'session_avg_friends',\n",
    "    'session_avg_help',\n",
    "    'session_avg_home',\n",
    "    'session_avg_likes',\n",
    "    'session_avg_settings',\n",
    "    'session_avg_songs',\n",
    "    'session_avg_time_away',\n",
    "    'time_window',\n",
    "    'time_window_over_playback_time'\n",
    "]\n",
    "\n",
    "\n",
    "def get_score(df, feature):\n",
    "    churned_score = abs(df[df.canceled == 1][feature].mean())\n",
    "    non_churned_score = abs(df[df.canceled == 0][feature].mean())\n",
    "    score = (churned_score - non_churned_score) / max(churned_score, non_churned_score) \n",
    "    return {\n",
    "        'feature': f'score_{feature}',\n",
    "        'score': score\n",
    "    }\n",
    "\n",
    "df_scores = pd.DataFrame(list(map(lambda feature: get_score(df_dataset, feature), columns_mean)))\n",
    "df_scores = df_scores.sort_values(['score'], ascending = True).reset_index(drop = True)"
   ]
  },
  {
   "cell_type": "markdown",
   "id": "d131c5a9",
   "metadata": {},
   "source": [
    "# Feature Churn Plot "
   ]
  },
  {
   "cell_type": "code",
   "execution_count": 46,
   "id": "47d62cad",
   "metadata": {},
   "outputs": [
    {
     "data": {
      "image/png": "[encoded data removed]",
      "text/plain": [
       "<Figure size 1120x800 with 1 Axes>"
      ]
     },
     "metadata": {
      "needs_background": "light"
     },
     "output_type": "display_data"
    }
   ],
   "source": [
    "fig = plt.figure(figsize = (14, 10), dpi = 80)\n",
    "ax = fig.add_axes([0, 0, 1, 1])\n",
    " \n",
    "df_scores['colors'] = df_scores.score.apply(lambda score: 'green' if score < 0 else 'red')\n",
    "\n",
    "ax.barh(list(df_scores.feature), list(df_scores.score), align = 'center', alpha = .4, linewidth = 5, color = list(df_scores.colors))\n",
    "\n",
    "ax.set_xticks(list(np.around(np.arange(-.6, .4, .1), 3)))\n",
    " \n",
    "ax.invert_yaxis()\n",
    "ax.set_xlabel('Feature score')\n",
    "ax.set_title('How each feature helps to detect a churn?', fontdict = { 'size' : 20 })\n",
    "\n",
    "plt.grid(linestyle = '--', alpha = 0.8)\n",
    "plt.xticks(rotation = 0)\n",
    "\n",
    "plt.show()"
   ]
  },
  {
   "cell_type": "markdown",
   "id": "7693118f",
   "metadata": {},
   "source": [
    "# Data Modelling "
   ]
  },
  {
   "cell_type": "markdown",
   "id": "e71d14b9",
   "metadata": {},
   "source": [
    "# Schema (New Dataset)"
   ]
  },
  {
   "cell_type": "code",
   "execution_count": 59,
   "id": "901c9916",
   "metadata": {},
   "outputs": [
    {
     "name": "stdout",
     "output_type": "stream",
     "text": [
      "root\n",
      " |-- n_likes_over_dislikes: double (nullable = false)\n",
      " |-- n_dislikes: long (nullable = false)\n",
      " |-- session_avg_settings: double (nullable = false)\n",
      " |-- n_likes_over_songs: double (nullable = false)\n",
      " |-- n_help: long (nullable = false)\n",
      " |-- userId: string (nullable = true)\n",
      " |-- avg_playback_time: double (nullable = false)\n",
      " |-- n_actions: long (nullable = false)\n",
      " |-- session_avg_help: double (nullable = false)\n",
      " |-- n_settings: long (nullable = false)\n",
      " |-- n_ads_over_songs: double (nullable = false)\n",
      " |-- n_sess: long (nullable = false)\n",
      " |-- avg_session_duration: double (nullable = false)\n",
      " |-- session_avg_home: double (nullable = false)\n",
      " |-- n_downgrades: long (nullable = false)\n",
      " |-- canceled: integer (nullable = true)\n",
      " |-- session_avg_likes: double (nullable = false)\n",
      " |-- n_likes: long (nullable = false)\n",
      " |-- session_avg_dislikes: double (nullable = false)\n",
      " |-- n_songs: long (nullable = false)\n",
      " |-- n_upgrades: long (nullable = false)\n",
      " |-- n_ads: long (nullable = false)\n",
      " |-- n_days: long (nullable = false)\n",
      " |-- time_window: double (nullable = false)\n",
      " |-- n_added_to_playlist: long (nullable = false)\n",
      " |-- session_avg_friends: double (nullable = false)\n",
      " |-- n_friends: long (nullable = false)\n",
      " |-- n_dislikes_over_songs: double (nullable = false)\n",
      " |-- avg_daily_actions: double (nullable = false)\n",
      " |-- paid: integer (nullable = true)\n",
      " |-- session_avg_time_away: double (nullable = false)\n",
      " |-- session_avg_ads: double (nullable = false)\n",
      " |-- session_avg_errors: double (nullable = false)\n",
      " |-- session_avg_actions: double (nullable = false)\n",
      " |-- n_home: long (nullable = false)\n",
      " |-- session_avg_added_playlist: double (nullable = false)\n",
      " |-- n_errors: long (nullable = false)\n",
      " |-- time_window_over_playback_time: double (nullable = false)\n",
      " |-- male: integer (nullable = true)\n",
      " |-- session_avg_songs: double (nullable = false)\n",
      " |-- zscore_avg_daily_actions: double (nullable = true)\n",
      " |-- zscore_avg_session_duration: double (nullable = true)\n",
      " |-- zscore_avg_playback_time: double (nullable = true)\n",
      " |-- zscore_session_avg_actions: double (nullable = true)\n",
      " |-- zscore_session_avg_added_playlist: double (nullable = true)\n",
      " |-- zscore_session_avg_ads: double (nullable = true)\n",
      " |-- zscore_session_avg_dislikes: double (nullable = true)\n",
      " |-- zscore_session_avg_errors: double (nullable = true)\n",
      " |-- zscore_session_avg_friends: double (nullable = true)\n",
      " |-- zscore_session_avg_help: double (nullable = true)\n",
      " |-- zscore_session_avg_home: double (nullable = true)\n",
      " |-- zscore_session_avg_likes: double (nullable = true)\n",
      " |-- zscore_session_avg_settings: double (nullable = true)\n",
      " |-- zscore_session_avg_songs: double (nullable = true)\n",
      " |-- zscore_session_avg_time_away: double (nullable = true)\n",
      " |-- zscore_time_window: double (nullable = true)\n",
      " |-- zscore_time_window_over_playback_time: double (nullable = true)\n",
      "\n"
     ]
    }
   ],
   "source": [
    "df_users.printSchema()"
   ]
  },
  {
   "cell_type": "markdown",
   "id": "efba815f",
   "metadata": {},
   "source": [
    "# Checking the new data "
   ]
  },
  {
   "cell_type": "code",
   "execution_count": 63,
   "id": "bcbfa18b",
   "metadata": {},
   "outputs": [
    {
     "data": {
      "text/html": [
       "<div>\n",
       "<style scoped>\n",
       "    .dataframe tbody tr th:only-of-type {\n",
       "        vertical-align: middle;\n",
       "    }\n",
       "\n",
       "    .dataframe tbody tr th {\n",
       "        vertical-align: top;\n",
       "    }\n",
       "\n",
       "    .dataframe thead th {\n",
       "        text-align: right;\n",
       "    }\n",
       "</style>\n",
       "<table border=\"1\" class=\"dataframe\">\n",
       "  <thead>\n",
       "    <tr style=\"text-align: right;\">\n",
       "      <th></th>\n",
       "      <th>n_likes_over_dislikes</th>\n",
       "      <th>n_dislikes</th>\n",
       "      <th>session_avg_settings</th>\n",
       "      <th>n_likes_over_songs</th>\n",
       "      <th>n_help</th>\n",
       "      <th>userId</th>\n",
       "      <th>avg_playback_time</th>\n",
       "      <th>n_actions</th>\n",
       "      <th>session_avg_help</th>\n",
       "      <th>n_settings</th>\n",
       "      <th>...</th>\n",
       "      <th>zscore_session_avg_errors</th>\n",
       "      <th>zscore_session_avg_friends</th>\n",
       "      <th>zscore_session_avg_help</th>\n",
       "      <th>zscore_session_avg_home</th>\n",
       "      <th>zscore_session_avg_likes</th>\n",
       "      <th>zscore_session_avg_settings</th>\n",
       "      <th>zscore_session_avg_songs</th>\n",
       "      <th>zscore_session_avg_time_away</th>\n",
       "      <th>zscore_time_window</th>\n",
       "      <th>zscore_time_window_over_playback_time</th>\n",
       "    </tr>\n",
       "  </thead>\n",
       "  <tbody>\n",
       "    <tr>\n",
       "      <th>0</th>\n",
       "      <td>1.606061</td>\n",
       "      <td>33</td>\n",
       "      <td>0.119249</td>\n",
       "      <td>19.283019</td>\n",
       "      <td>8</td>\n",
       "      <td>1000280</td>\n",
       "      <td>3.430554</td>\n",
       "      <td>1317</td>\n",
       "      <td>0.105999</td>\n",
       "      <td>9</td>\n",
       "      <td>...</td>\n",
       "      <td>0.409989</td>\n",
       "      <td>0.260926</td>\n",
       "      <td>0.131335</td>\n",
       "      <td>0.291745</td>\n",
       "      <td>0.184767</td>\n",
       "      <td>0.029045</td>\n",
       "      <td>0.505312</td>\n",
       "      <td>0.625989</td>\n",
       "      <td>0.111889</td>\n",
       "      <td>0.230421</td>\n",
       "    </tr>\n",
       "    <tr>\n",
       "      <th>1</th>\n",
       "      <td>6.571429</td>\n",
       "      <td>14</td>\n",
       "      <td>0.081237</td>\n",
       "      <td>19.326087</td>\n",
       "      <td>12</td>\n",
       "      <td>1002185</td>\n",
       "      <td>7.240974</td>\n",
       "      <td>2080</td>\n",
       "      <td>0.097484</td>\n",
       "      <td>10</td>\n",
       "      <td>...</td>\n",
       "      <td>0.040739</td>\n",
       "      <td>0.207305</td>\n",
       "      <td>0.057829</td>\n",
       "      <td>0.431666</td>\n",
       "      <td>0.054254</td>\n",
       "      <td>0.150343</td>\n",
       "      <td>0.315745</td>\n",
       "      <td>0.398114</td>\n",
       "      <td>0.900728</td>\n",
       "      <td>0.253474</td>\n",
       "    </tr>\n",
       "    <tr>\n",
       "      <th>2</th>\n",
       "      <td>1.750000</td>\n",
       "      <td>4</td>\n",
       "      <td>0.170694</td>\n",
       "      <td>35.714286</td>\n",
       "      <td>1</td>\n",
       "      <td>1017805</td>\n",
       "      <td>5.858428</td>\n",
       "      <td>320</td>\n",
       "      <td>0.056898</td>\n",
       "      <td>3</td>\n",
       "      <td>...</td>\n",
       "      <td>0.352332</td>\n",
       "      <td>1.428038</td>\n",
       "      <td>0.292544</td>\n",
       "      <td>0.323094</td>\n",
       "      <td>1.063690</td>\n",
       "      <td>0.271826</td>\n",
       "      <td>0.116130</td>\n",
       "      <td>1.019584</td>\n",
       "      <td>0.862618</td>\n",
       "      <td>0.084104</td>\n",
       "    </tr>\n",
       "    <tr>\n",
       "      <th>3</th>\n",
       "      <td>4.125000</td>\n",
       "      <td>16</td>\n",
       "      <td>0.121283</td>\n",
       "      <td>22.303030</td>\n",
       "      <td>10</td>\n",
       "      <td>1030587</td>\n",
       "      <td>11.243422</td>\n",
       "      <td>1752</td>\n",
       "      <td>0.080855</td>\n",
       "      <td>15</td>\n",
       "      <td>...</td>\n",
       "      <td>0.197268</td>\n",
       "      <td>0.259498</td>\n",
       "      <td>0.085726</td>\n",
       "      <td>0.383644</td>\n",
       "      <td>0.672288</td>\n",
       "      <td>0.038643</td>\n",
       "      <td>1.996805</td>\n",
       "      <td>0.202094</td>\n",
       "      <td>0.436338</td>\n",
       "      <td>0.250699</td>\n",
       "    </tr>\n",
       "    <tr>\n",
       "      <th>4</th>\n",
       "      <td>3.333333</td>\n",
       "      <td>3</td>\n",
       "      <td>0.060997</td>\n",
       "      <td>23.600000</td>\n",
       "      <td>2</td>\n",
       "      <td>1033297</td>\n",
       "      <td>3.278877</td>\n",
       "      <td>299</td>\n",
       "      <td>0.121993</td>\n",
       "      <td>1</td>\n",
       "      <td>...</td>\n",
       "      <td>0.352332</td>\n",
       "      <td>0.082674</td>\n",
       "      <td>0.269405</td>\n",
       "      <td>0.239381</td>\n",
       "      <td>0.451603</td>\n",
       "      <td>0.245862</td>\n",
       "      <td>0.271376</td>\n",
       "      <td>0.388190</td>\n",
       "      <td>0.415199</td>\n",
       "      <td>0.027823</td>\n",
       "    </tr>\n",
       "  </tbody>\n",
       "</table>\n",
       "<p>5 rows × 57 columns</p>\n",
       "</div>"
      ],
      "text/plain": [
       "   n_likes_over_dislikes  n_dislikes  session_avg_settings  \\\n",
       "0               1.606061          33              0.119249   \n",
       "1               6.571429          14              0.081237   \n",
       "2               1.750000           4              0.170694   \n",
       "3               4.125000          16              0.121283   \n",
       "4               3.333333           3              0.060997   \n",
       "\n",
       "   n_likes_over_songs  n_help   userId  avg_playback_time  n_actions  \\\n",
       "0           19.283019       8  1000280           3.430554       1317   \n",
       "1           19.326087      12  1002185           7.240974       2080   \n",
       "2           35.714286       1  1017805           5.858428        320   \n",
       "3           22.303030      10  1030587          11.243422       1752   \n",
       "4           23.600000       2  1033297           3.278877        299   \n",
       "\n",
       "   session_avg_help  n_settings  ...  zscore_session_avg_errors  \\\n",
       "0          0.105999           9  ...                   0.409989   \n",
       "1          0.097484          10  ...                   0.040739   \n",
       "2          0.056898           3  ...                   0.352332   \n",
       "3          0.080855          15  ...                   0.197268   \n",
       "4          0.121993           1  ...                   0.352332   \n",
       "\n",
       "   zscore_session_avg_friends  zscore_session_avg_help  \\\n",
       "0                    0.260926                 0.131335   \n",
       "1                    0.207305                 0.057829   \n",
       "2                    1.428038                 0.292544   \n",
       "3                    0.259498                 0.085726   \n",
       "4                    0.082674                 0.269405   \n",
       "\n",
       "   zscore_session_avg_home  zscore_session_avg_likes  \\\n",
       "0                 0.291745                  0.184767   \n",
       "1                 0.431666                  0.054254   \n",
       "2                 0.323094                  1.063690   \n",
       "3                 0.383644                  0.672288   \n",
       "4                 0.239381                  0.451603   \n",
       "\n",
       "   zscore_session_avg_settings  zscore_session_avg_songs  \\\n",
       "0                     0.029045                  0.505312   \n",
       "1                     0.150343                  0.315745   \n",
       "2                     0.271826                  0.116130   \n",
       "3                     0.038643                  1.996805   \n",
       "4                     0.245862                  0.271376   \n",
       "\n",
       "   zscore_session_avg_time_away  zscore_time_window  \\\n",
       "0                      0.625989            0.111889   \n",
       "1                      0.398114            0.900728   \n",
       "2                      1.019584            0.862618   \n",
       "3                      0.202094            0.436338   \n",
       "4                      0.388190            0.415199   \n",
       "\n",
       "   zscore_time_window_over_playback_time  \n",
       "0                               0.230421  \n",
       "1                               0.253474  \n",
       "2                               0.084104  \n",
       "3                               0.250699  \n",
       "4                               0.027823  \n",
       "\n",
       "[5 rows x 57 columns]"
      ]
     },
     "execution_count": 63,
     "metadata": {},
     "output_type": "execute_result"
    }
   ],
   "source": [
    "df_users.toPandas().head()"
   ]
  },
  {
   "cell_type": "markdown",
   "id": "5472e663",
   "metadata": {},
   "source": [
    "# Selecting the output label and setting the split ratio"
   ]
  },
  {
   "cell_type": "code",
   "execution_count": 68,
   "id": "a4157b33",
   "metadata": {},
   "outputs": [],
   "source": [
    "CHURN_LABEL = 'canceled'\n",
    "TRAIN_SPLIT_RATIO = .7\n",
    "TEST_SPLIT_RATIO = .3\n",
    "\n",
    "SPLIT_RATIO = [TRAIN_SPLIT_RATIO, TEST_SPLIT_RATIO]"
   ]
  },
  {
   "cell_type": "markdown",
   "id": "e1204701",
   "metadata": {},
   "source": [
    "# Confusion matrix and creating model classifier pipeline "
   ]
  },
  {
   "cell_type": "code",
   "execution_count": 69,
   "id": "c8aba09a",
   "metadata": {},
   "outputs": [],
   "source": [
    "def plot_confusion_matrix(y_test, y_predictions):\n",
    "    cm = confusion_matrix(y_test, y_predictions, labels = [1, 0])\n",
    "    tn = cm[1, 1]\n",
    "    tp = cm[0, 0]\n",
    "    fp = cm[1, 0]\n",
    "    fn = cm[0, 1]\n",
    "    \n",
    "    total = np.sum(cm)\n",
    "    accuracy = (tp + tn) / total\n",
    "    precision = (tp) / (tp + fp)\n",
    "    recall = (tp) / (tp + fn) \n",
    "    print(cm)\n",
    "\n",
    "def create_pipeline(model):\n",
    "    \n",
    "    l_indexer = StringIndexer(inputCol = CHURN_LABEL, outputCol = 'idx_labels')\n",
    "    f_binaries = VectorAssembler(inputCols = binary_features, outputCol = 'bin_features')\n",
    "    f_numeric = VectorAssembler(inputCols = numeric_features, outputCol = 'num_features')\n",
    "    f_scaler = StandardScaler(inputCol = 'num_features', outputCol = 'num_features_escaled', withStd = True, withMean = True)\n",
    "    f_all = VectorAssembler(inputCols = [ 'bin_features' , 'num_features_escaled' ], outputCol = 'features')\n",
    "    pipeline = Pipeline(stages = [ l_indexer, f_binaries, f_numeric, f_scaler, f_all, model ])\n",
    "    return pipeline\n",
    "\n",
    "def create_random_forest_pipeline():\n",
    "    rf_classifier = RandomForestClassifier(labelCol = 'canceled', featuresCol = 'features', seed = 42)\n",
    "    return create_pipeline(rf_classifier)\n",
    "\n",
    "def create_gradient_boost_pipeline():\n",
    "    gbt_classifier = GBTClassifier(labelCol = 'canceled', maxDepth = 5, maxIter = 100, seed = 42)\n",
    "    return create_pipeline(gbt_classifier)\n",
    "\n",
    "def create_logistic_regression_pipeline():\n",
    "    lr_classifier = LogisticRegression(featuresCol = 'features', labelCol = 'idx_labels', weightCol = 'class_weights') \n",
    "    return create_pipeline(lr_classifier)\n",
    "\n",
    "def create_decision_tree_pipeline():\n",
    "    dt_classifier = DecisionTreeClassifier(labelCol = 'canceled', featuresCol = 'features', seed = 42)\n",
    "    return create_pipeline(dt_classifier)"
   ]
  },
  {
   "cell_type": "markdown",
   "id": "a05f4c60",
   "metadata": {},
   "source": [
    "# Model Evaluation Metrics "
   ]
  },
  {
   "cell_type": "code",
   "execution_count": 80,
   "id": "13369805",
   "metadata": {},
   "outputs": [],
   "source": [
    "import uuid\n",
    "\n",
    "from pyspark.ml.evaluation import Evaluator\n",
    "\n",
    "from pyspark.mllib.evaluation import BinaryClassificationMetrics\n",
    "from pyspark.mllib.evaluation import MulticlassMetrics\n",
    "from pyspark.ml.classification import LogisticRegression  \n",
    "\n",
    "class Recall(Evaluator):\n",
    "    \n",
    "    def __init__(self, predictionCol = 'prediction', labelCol = 'label'):\n",
    "        self.predictionCol = predictionCol\n",
    "        self.labelCol = labelCol\n",
    "        self.uid = str(uuid.uuid4())\n",
    "\n",
    "    def evaluate(self, dataset):\n",
    "        \n",
    "        tp = dataset.where((dataset[self.labelCol] == 1) & (dataset[self.predictionCol] == 1)).count()\n",
    "        fp = dataset.where((dataset[self.labelCol] == 0) & (dataset[self.predictionCol] == 1)).count()\n",
    "        tn = dataset.where((dataset[self.labelCol] == 0) & (dataset[self.predictionCol] == 0)).count()\n",
    "        fn = dataset.where((dataset[self.labelCol] == 1) & (dataset[self.predictionCol] == 0)).count()\n",
    "\n",
    "        return (100 / (tp + fn )) * tp\n",
    "\n",
    "    def isLargerBetter(self):\n",
    "        return True\n",
    "    \n",
    "from sklearn.metrics import f1_score, fbeta_score, make_scorer, roc_auc_score\n",
    "\n",
    " \n",
    "beta_scorer = make_scorer(fbeta_score, average = 'binary', beta = 2)\n",
    "\n",
    "def get_beta_score(y_test, y_predict):\n",
    "    return fbeta_score(y_test, y_predict, average = 'binary', labels = [1, 0], beta = 2)\n",
    "    \n",
    "def plot_metrics(y_test, y_predictions):\n",
    "    \n",
    "    auc = roc_auc_score(y_test, y_predictions)\n",
    "    cm = confusion_matrix(y_test, y_predictions, labels = [1, 0])\n",
    "    \n",
    "    tn = cm[1, 1]\n",
    "    tp = cm[0, 0]\n",
    "    fp = cm[1, 0]\n",
    "    fn = cm[0, 1]\n",
    "    \n",
    "    total = np.sum(cm)\n",
    "    accuracy = (tp + tn) / total\n",
    "    precision = (tp) / (tp + fp)\n",
    "    recall = (tp) / (tp + fn) \n",
    "\n",
    "    beta = get_beta_score(y_test, y_predictions)\n",
    "    \n",
    "    f1_binary = f1_score(y_test, y_predictions, average = 'binary', labels = [1, 0])\n",
    "    f1_macro = f1_score(y_test, y_predictions, average = 'macro')\n",
    "    f1_micro = f1_score(y_test, y_predictions, average = 'micro')\n",
    "    f1_weighted = f1_score(y_test, y_predictions, average = 'weighted')\n",
    "    \n",
    "    print(cm)\n",
    "    print('')\n",
    "    print('accuracy.................%7.4f' % accuracy)\n",
    "    print('precision................%7.4f' % precision)\n",
    "    print('recall...................%7.4f' % recall)\n",
    "    print('auc......................%7.4f' % auc)\n",
    "    print('beta.....................%7.4f' % beta)\n",
    "    print('F1 macro.................%7.4f' % f1_macro)\n",
    "    print('F1 micro.................%7.4f' % f1_micro)\n",
    "    print('F1 weighted..............%7.4f' % f1_weighted) \n",
    "    print('F1 binary................%7.4f' %  f1_binary)\n",
    "    \n",
    "    return {\n",
    "        'accuracy': accuracy,\n",
    "        'precision': precision,\n",
    "        'recall': recall,\n",
    "        'auc': auc,\n",
    "        'f1_macro': f1_macro,\n",
    "        'f1_micro': f1_micro,\n",
    "        'f1_weighted': f1_weighted,\n",
    "        'binary': f1_binary,\n",
    "        'beta': beta,\n",
    "        'tp': int(tp),\n",
    "        'fn': int(fn),\n",
    "        'fp': int(fp),\n",
    "        'tn': int(tn),\n",
    "        'y_test': str(list(y_test.values)),\n",
    "        'y_predictions': str(list(y_predictions.values))\n",
    "    }"
   ]
  },
  {
   "cell_type": "markdown",
   "id": "d8962a96",
   "metadata": {},
   "source": [
    "# Saving the best model and its hyperparmaters locally"
   ]
  },
  {
   "cell_type": "code",
   "execution_count": 84,
   "id": "2cd1d55d",
   "metadata": {},
   "outputs": [],
   "source": [
    "import pandas as pd \n",
    "\n",
    "def show_results_and_save(model_pipeline, predictions):\n",
    "    \n",
    "    df_results = predictions.select(['canceled', 'prediction']).toPandas()\n",
    "    df_results['prediction'] = df_results.prediction.apply(int)\n",
    "\n",
    "    # Display the results\n",
    "    _metrics = plot_metrics(df_results['canceled'], df_results['prediction'])\n",
    "    \n",
    "    # Save the results\n",
    "    _model = model_pipeline.stages[-1]\n",
    "    _model_name = _model.__class__.__name__\n",
    "\n",
    "    _model_info = {\n",
    "        'model_name' : _model_name,\n",
    "        'hyperparameters' : list(zip(list(map(lambda _param: _param.name, list(_model.extractParamMap()))), list(_model.extractParamMap().values())))\n",
    "    }\n",
    "\n",
    "    _metrics.update(_model_info)\n",
    "\n",
    "    _df_metrics = pd.DataFrame([_metrics])\n",
    "    _df_metrics.to_csv(f'spark_{_model_name}.csv', index = False)"
   ]
  },
  {
   "cell_type": "markdown",
   "id": "9a77e1e4",
   "metadata": {},
   "source": [
    "# Splitting the data into 70/30 ratio. "
   ]
  },
  {
   "cell_type": "code",
   "execution_count": 70,
   "id": "41f272d7",
   "metadata": {},
   "outputs": [],
   "source": [
    "(train_df, test_df) = df_users.randomSplit(SPLIT_RATIO, seed = 42)"
   ]
  },
  {
   "cell_type": "code",
   "execution_count": 71,
   "id": "34918494",
   "metadata": {},
   "outputs": [
    {
     "data": {
      "text/plain": [
       "DataFrame[n_likes_over_dislikes: double, n_dislikes: bigint, session_avg_settings: double, n_likes_over_songs: double, n_help: bigint, userId: string, avg_playback_time: double, n_actions: bigint, session_avg_help: double, n_settings: bigint, n_ads_over_songs: double, n_sess: bigint, avg_session_duration: double, session_avg_home: double, n_downgrades: bigint, canceled: int, session_avg_likes: double, n_likes: bigint, session_avg_dislikes: double, n_songs: bigint, n_upgrades: bigint, n_ads: bigint, n_days: bigint, time_window: double, n_added_to_playlist: bigint, session_avg_friends: double, n_friends: bigint, n_dislikes_over_songs: double, avg_daily_actions: double, paid: int, session_avg_time_away: double, session_avg_ads: double, session_avg_errors: double, session_avg_actions: double, n_home: bigint, session_avg_added_playlist: double, n_errors: bigint, time_window_over_playback_time: double, male: int, session_avg_songs: double, zscore_avg_daily_actions: double, zscore_avg_session_duration: double, zscore_avg_playback_time: double, zscore_session_avg_actions: double, zscore_session_avg_added_playlist: double, zscore_session_avg_ads: double, zscore_session_avg_dislikes: double, zscore_session_avg_errors: double, zscore_session_avg_friends: double, zscore_session_avg_help: double, zscore_session_avg_home: double, zscore_session_avg_likes: double, zscore_session_avg_settings: double, zscore_session_avg_songs: double, zscore_session_avg_time_away: double, zscore_time_window: double, zscore_time_window_over_playback_time: double]"
      ]
     },
     "execution_count": 71,
     "metadata": {},
     "output_type": "execute_result"
    }
   ],
   "source": [
    "train_df.cache()\n",
    "test_df.cache()"
   ]
  },
  {
   "cell_type": "code",
   "execution_count": 75,
   "id": "277bc711",
   "metadata": {},
   "outputs": [],
   "source": [
    "balancing_ratio = train_df.filter(train_df.canceled == 0).count() / train_df.count()\n",
    "train_df = train_df.withColumn('class_weights', when(train_df.canceled == 1, balancing_ratio).otherwise(1 - balancing_ratio))"
   ]
  },
  {
   "cell_type": "markdown",
   "id": "a8f045f8",
   "metadata": {},
   "source": [
    "# Splitting the full dataset into train, test, and validation sets. Testing out several of the machine learning methods to achieve a good accuracy "
   ]
  },
  {
   "cell_type": "markdown",
   "id": "9dec3e86",
   "metadata": {},
   "source": [
    "### Logistic Regression "
   ]
  },
  {
   "cell_type": "code",
   "execution_count": 86,
   "id": "779920f5",
   "metadata": {},
   "outputs": [
    {
     "name": "stdout",
     "output_type": "stream",
     "text": [
      "[[1085  253]\n",
      " [ 609 3941]]\n",
      "\n",
      "accuracy................. 0.8536\n",
      "precision................ 0.6405\n",
      "recall................... 0.8109\n",
      "auc...................... 0.8385\n",
      "beta..................... 0.7699\n",
      "F1 macro................. 0.8086\n",
      "F1 micro................. 0.8536\n",
      "F1 weighted.............. 0.8592\n",
      "F1 binary................ 0.7157\n"
     ]
    }
   ],
   "source": [
    "pipeline = create_logistic_regression_pipeline()\n",
    "model_pipeline = pipeline.fit(train_df)\n",
    "predictions = model_pipeline.transform(test_df)\n",
    "show_results_and_save(model_pipeline, predictions)"
   ]
  },
  {
   "cell_type": "markdown",
   "id": "397a2501",
   "metadata": {},
   "source": [
    "### Decision Tree Classifier "
   ]
  },
  {
   "cell_type": "code",
   "execution_count": 87,
   "id": "24fd473d",
   "metadata": {},
   "outputs": [
    {
     "name": "stdout",
     "output_type": "stream",
     "text": [
      "[[ 841  497]\n",
      " [ 139 4411]]\n",
      "\n",
      "accuracy................. 0.8920\n",
      "precision................ 0.8582\n",
      "recall................... 0.6286\n",
      "auc...................... 0.7990\n",
      "beta..................... 0.6641\n",
      "F1 macro................. 0.8292\n",
      "F1 micro................. 0.8920\n",
      "F1 weighted.............. 0.8857\n",
      "F1 binary................ 0.7256\n"
     ]
    }
   ],
   "source": [
    "pipeline1 = create_decision_tree_pipeline()\n",
    "model_pipeline1 = pipeline1.fit(train_df)\n",
    "predictions1 = model_pipeline1.transform(test_df)\n",
    "show_results_and_save(model_pipeline1, predictions1)"
   ]
  },
  {
   "cell_type": "markdown",
   "id": "16af5ae5",
   "metadata": {},
   "source": [
    "### Random Forest "
   ]
  },
  {
   "cell_type": "code",
   "execution_count": 89,
   "id": "ff4698b8",
   "metadata": {},
   "outputs": [
    {
     "name": "stdout",
     "output_type": "stream",
     "text": [
      "[[ 804  534]\n",
      " [ 100 4450]]\n",
      "\n",
      "accuracy................. 0.8923\n",
      "precision................ 0.8894\n",
      "recall................... 0.6009\n",
      "auc...................... 0.7895\n",
      "beta..................... 0.6426\n",
      "F1 macro................. 0.8254\n",
      "F1 micro................. 0.8923\n",
      "F1 weighted.............. 0.8844\n",
      "F1 binary................ 0.7172\n"
     ]
    }
   ],
   "source": [
    "pipeline2 = create_random_forest_pipeline()\n",
    "model_pipeline2 = pipeline2.fit(train_df)\n",
    "predictions2 = model_pipeline2.transform(test_df)\n",
    "show_results_and_save(model_pipeline2, predictions2)"
   ]
  },
  {
   "cell_type": "markdown",
   "id": "5c9f27b0",
   "metadata": {},
   "source": [
    "### Gradient Boost"
   ]
  },
  {
   "cell_type": "code",
   "execution_count": null,
   "id": "30e3af3e",
   "metadata": {},
   "outputs": [],
   "source": [
    "pipeline3 = create_gradient_boost_pipeline()\n",
    "model_pipeline3 = pipeline3.fit(train_df)\n",
    "predictions3 = model_pipeline.transform(test_df)\n",
    "show_results_and_save(model_pipeline3, predictions3)"
   ]
  }
 ],
 "metadata": {
  "kernelspec": {
   "display_name": "Python 3",
   "language": "python",
   "name": "python3"
  },
  "language_info": {
   "codemirror_mode": {
    "name": "ipython",
    "version": 3
   },
   "file_extension": ".py",
   "mimetype": "text/x-python",
   "name": "python",
   "nbconvert_exporter": "python",
   "pygments_lexer": "ipython3",
   "version": "3.9.12"
  }
 },
 "nbformat": 4,
 "nbformat_minor": 5
}
