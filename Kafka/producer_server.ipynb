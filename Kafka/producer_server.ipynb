{
 "cells": [
  {
   "cell_type": "code",
   "execution_count": 1,
   "id": "417e7d43",
   "metadata": {},
   "outputs": [],
   "source": [
    "import json\n",
    "import logging\n",
    "import time"
   ]
  },
  {
   "cell_type": "code",
   "execution_count": 3,
   "id": "5c918a69",
   "metadata": {},
   "outputs": [
    {
     "name": "stdout",
     "output_type": "stream",
     "text": [
      "Collecting confluent_kafka\n",
      "  Downloading confluent_kafka-1.8.2-cp38-cp38-macosx_10_9_x86_64.whl (2.5 MB)\n",
      "\u001b[K     |████████████████████████████████| 2.5 MB 2.7 MB/s eta 0:00:01\n",
      "\u001b[?25hInstalling collected packages: confluent-kafka\n",
      "Successfully installed confluent-kafka-1.8.2\n"
     ]
    }
   ],
   "source": [
    "!pip install confluent_kafka"
   ]
  },
  {
   "cell_type": "code",
   "execution_count": 4,
   "id": "6b3388d5",
   "metadata": {},
   "outputs": [],
   "source": [
    "from confluent_kafka import Producer, KafkaError\n",
    "from confluent_kafka.admin import AdminClient, NewTopic"
   ]
  },
  {
   "cell_type": "code",
   "execution_count": 5,
   "id": "eb2fbe70",
   "metadata": {},
   "outputs": [],
   "source": [
    "logger = logging.getLogger(__name__)"
   ]
  },
  {
   "cell_type": "code",
   "execution_count": 6,
   "id": "d658108e",
   "metadata": {},
   "outputs": [],
   "source": [
    "class ProducerServer:\n",
    "    \"\"\"\n",
    "    Basic Kafka consumer class\n",
    "    \"\"\"\n",
    "\n",
    "    def __init__(self, conf, time_interval):\n",
    "        self.conf = conf\n",
    "        self.topic = self.conf.get(\"kafka\", \"topic\")\n",
    "        self.input_file = self.conf.get(\"kafka\", \"input_file\")\n",
    "        self.bootstrap_servers = self.conf.get(\"kafka\", \"bootstrap_servers\")\n",
    "        self.num_partitions = self.conf.getint(\"kafka\", \"num_partitions\")\n",
    "        self.replication_factor = self.conf.getint(\"kafka\", \"replication_factor\")\n",
    "        self.progress_interval = self.conf.getint(\"kafka\", \"progress_interval\")\n",
    "        self.admin_client = AdminClient({\"bootstrap.servers\": self.bootstrap_servers})\n",
    "        self.producer = Producer({\"bootstrap.servers\": self.bootstrap_servers})\n",
    "        self.time_interval = time_interval\n",
    "\n",
    "    def create_topic(self):\n",
    "        \"\"\"\n",
    "        Check if Kafka topic already exists. If not, create it, else continue\n",
    "        \"\"\"\n",
    "        if self.topic not in self.admin_client.list_topics().topics:\n",
    "            futures = self.admin_client.create_topics([NewTopic(topic=self.topic,\n",
    "                                                                num_partitions=self.num_partitions,\n",
    "                                                                replication_factor=self.replication_factor)])\n",
    "\n",
    "            for _topic, future in futures.items():\n",
    "                try:\n",
    "                    future.result()\n",
    "                    logger.info(f\"Created topic: {_topic}\")\n",
    "                except KafkaError as err:\n",
    "                    logger.critical(f\"Failed to create topic {_topic}: {err}\")\n",
    "        else:\n",
    "            logger.info(f\"Topic {self.topic} already exists\")\n",
    "\n",
    "    def generate_data(self):\n",
    "        \"\"\"\n",
    "        Read input JSON file from disk and produce individual serialized rows to Kafka\n",
    "        \"\"\"\n",
    "        with open(self.input_file, \"r\", encoding=\"utf8\") as f:\n",
    "            line_count = 0\n",
    "            for line in f:\n",
    "                data = json.loads(line)\n",
    "\n",
    "                # trigger delivery report callbacks from previous produce calls\n",
    "                self.producer.poll(timeout=2)\n",
    "\n",
    "                # serialize Python dict to string\n",
    "                msg = self.serialize_json(data)\n",
    "                logger.debug(f\"Serialized JSON data:\\n {msg}\")\n",
    "\n",
    "                # send data to Kafka\n",
    "                self.producer.produce(topic=self.topic, value=msg, callback=self.delivery_callback)\n",
    "\n",
    "                # log progress\n",
    "                line_count = 1\n",
    "                if line_count % self.progress_interval == 0:\n",
    "                    logger.debug(f\"Processed {line_count} rows of data\")\n",
    "\n",
    "                # wait 2 second before reading next line\n",
    "                time.sleep(self.time_interval)\n",
    "\n",
    "            # make sure all messages are delivered before closing producer\n",
    "            logger.debug(\"Flushing producer\")\n",
    "            self.producer.flush()\n",
    "\n",
    "    @staticmethod\n",
    "    def serialize_json(json_data):\n",
    "        \"\"\"\n",
    "        Serialize Python dict to JSON-formatted, UTF-8 encoded string\n",
    "        \"\"\"\n",
    "        return json.dumps(json_data).encode(\"utf-8\")\n",
    "\n",
    "    @staticmethod\n",
    "    def delivery_callback(err, msg):\n",
    "        \"\"\"\n",
    "        Callback triggered by produce function\n",
    "        \"\"\"\n",
    "        if err is not None:\n",
    "            logger.error(f\"Failed to deliver message: {err}\")\n",
    "        else:\n",
    "            # logger.info(f\"Successfully produced message to topic {msg.topic()}\")\n",
    "            print(f\"---\")\n",
    "\n",
    "    def close(self):\n",
    "        \"\"\"\n",
    "        Convenience method to flush producer\n",
    "        \"\"\"\n",
    "        logger.debug(\"Flushing producer\")\n",
    "        self.producer.flush()"
   ]
  },
  {
   "cell_type": "code",
   "execution_count": null,
   "id": "74c49c6e",
   "metadata": {},
   "outputs": [],
   "source": []
  }
 ],
 "metadata": {
  "kernelspec": {
   "display_name": "Python 3 (ipykernel)",
   "language": "python",
   "name": "python3"
  },
  "language_info": {
   "codemirror_mode": {
    "name": "ipython",
    "version": 3
   },
   "file_extension": ".py",
   "mimetype": "text/x-python",
   "name": "python",
   "nbconvert_exporter": "python",
   "pygments_lexer": "ipython3",
   "version": "3.8.8"
  }
 },
 "nbformat": 4,
 "nbformat_minor": 5
}
